{
 "cells": [
  {
   "cell_type": "code",
   "execution_count": 64,
   "metadata": {
    "collapsed": true
   },
   "outputs": [],
   "source": [
    "import numpy as np\n",
    "import pandas as pd\n",
    "from plotnine import *\n",
    "from sko.SA import SA"
   ]
  },
  {
   "cell_type": "code",
   "execution_count": 58,
   "outputs": [
    {
     "data": {
      "text/plain": "    sst  lon\n0  8.05 -0.5\n1  7.85  1.5\n2  7.78  2.5\n3  7.56  3.5\n4  7.47  4.5\n5  7.76  5.5\n6  7.91  6.5\n7  8.34  7.5",
      "text/html": "<div>\n<style scoped>\n    .dataframe tbody tr th:only-of-type {\n        vertical-align: middle;\n    }\n\n    .dataframe tbody tr th {\n        vertical-align: top;\n    }\n\n    .dataframe thead th {\n        text-align: right;\n    }\n</style>\n<table border=\"1\" class=\"dataframe\">\n  <thead>\n    <tr style=\"text-align: right;\">\n      <th></th>\n      <th>sst</th>\n      <th>lon</th>\n    </tr>\n  </thead>\n  <tbody>\n    <tr>\n      <th>0</th>\n      <td>8.05</td>\n      <td>-0.5</td>\n    </tr>\n    <tr>\n      <th>1</th>\n      <td>7.85</td>\n      <td>1.5</td>\n    </tr>\n    <tr>\n      <th>2</th>\n      <td>7.78</td>\n      <td>2.5</td>\n    </tr>\n    <tr>\n      <th>3</th>\n      <td>7.56</td>\n      <td>3.5</td>\n    </tr>\n    <tr>\n      <th>4</th>\n      <td>7.47</td>\n      <td>4.5</td>\n    </tr>\n    <tr>\n      <th>5</th>\n      <td>7.76</td>\n      <td>5.5</td>\n    </tr>\n    <tr>\n      <th>6</th>\n      <td>7.91</td>\n      <td>6.5</td>\n    </tr>\n    <tr>\n      <th>7</th>\n      <td>8.34</td>\n      <td>7.5</td>\n    </tr>\n  </tbody>\n</table>\n</div>"
     },
     "execution_count": 58,
     "metadata": {},
     "output_type": "execute_result"
    }
   ],
   "source": [
    "df = pd.DataFrame({\n",
    "    'sst': np.array([8.05, 7.85, 7.78, 7.56, 7.47, 7.76, 7.91, 8.34]),\n",
    "    'lon': np.array([-0.5, 1.5, 2.5, 3.5, 4.5, 5.5, 6.5, 7.5]),\n",
    "})\n",
    "df"
   ],
   "metadata": {
    "collapsed": false,
    "pycharm": {
     "name": "#%%\n"
    }
   }
  },
  {
   "cell_type": "code",
   "execution_count": 59,
   "outputs": [
    {
     "data": {
      "text/plain": "         sst       lon\n0   8.050000 -0.500000\n1   8.003419 -0.336735\n2   7.965075 -0.173469\n3   7.934132 -0.010204\n4   7.909752  0.153061\n5   7.891099  0.316327\n6   7.877337  0.479592\n7   7.867629  0.642857\n8   7.861138  0.806122\n9   7.857028  0.969388\n10  7.854462  1.132653\n11  7.852603  1.295918\n12  7.850615  1.459184\n13  7.847661  1.622449\n14  7.842905  1.785714\n15  7.835510  1.948980\n16  7.824639  2.112245\n17  7.809455  2.275510\n18  7.789123  2.438776\n19  7.762897  2.602041\n20  7.731277  2.765306\n21  7.695661  2.928571\n22  7.657466  3.091837\n23  7.618110  3.255102\n24  7.579011  3.418367\n25  7.541607  3.581633\n26  7.507846  3.744898\n27  7.480186  3.908163\n28  7.461103  4.071429\n29  7.453076  4.234694\n30  7.458584  4.397959\n31  7.480040  4.561224\n32  7.516961  4.724490\n33  7.564840  4.887755\n34  7.618874  5.051020\n35  7.674261  5.214286\n36  7.726199  5.377551\n37  7.769906  5.540816\n38  7.803106  5.704082\n39  7.828395  5.867347\n40  7.848927  6.030612\n41  7.867854  6.193878\n42  7.888331  6.357143\n43  7.913513  6.520408\n44  7.946552  6.683673\n45  7.990603  6.846939\n46  8.048819  7.010204\n47  8.124355  7.173469\n48  8.220364  7.336735\n49  8.340000  7.500000",
      "text/html": "<div>\n<style scoped>\n    .dataframe tbody tr th:only-of-type {\n        vertical-align: middle;\n    }\n\n    .dataframe tbody tr th {\n        vertical-align: top;\n    }\n\n    .dataframe thead th {\n        text-align: right;\n    }\n</style>\n<table border=\"1\" class=\"dataframe\">\n  <thead>\n    <tr style=\"text-align: right;\">\n      <th></th>\n      <th>sst</th>\n      <th>lon</th>\n    </tr>\n  </thead>\n  <tbody>\n    <tr>\n      <th>0</th>\n      <td>8.050000</td>\n      <td>-0.500000</td>\n    </tr>\n    <tr>\n      <th>1</th>\n      <td>8.003419</td>\n      <td>-0.336735</td>\n    </tr>\n    <tr>\n      <th>2</th>\n      <td>7.965075</td>\n      <td>-0.173469</td>\n    </tr>\n    <tr>\n      <th>3</th>\n      <td>7.934132</td>\n      <td>-0.010204</td>\n    </tr>\n    <tr>\n      <th>4</th>\n      <td>7.909752</td>\n      <td>0.153061</td>\n    </tr>\n    <tr>\n      <th>5</th>\n      <td>7.891099</td>\n      <td>0.316327</td>\n    </tr>\n    <tr>\n      <th>6</th>\n      <td>7.877337</td>\n      <td>0.479592</td>\n    </tr>\n    <tr>\n      <th>7</th>\n      <td>7.867629</td>\n      <td>0.642857</td>\n    </tr>\n    <tr>\n      <th>8</th>\n      <td>7.861138</td>\n      <td>0.806122</td>\n    </tr>\n    <tr>\n      <th>9</th>\n      <td>7.857028</td>\n      <td>0.969388</td>\n    </tr>\n    <tr>\n      <th>10</th>\n      <td>7.854462</td>\n      <td>1.132653</td>\n    </tr>\n    <tr>\n      <th>11</th>\n      <td>7.852603</td>\n      <td>1.295918</td>\n    </tr>\n    <tr>\n      <th>12</th>\n      <td>7.850615</td>\n      <td>1.459184</td>\n    </tr>\n    <tr>\n      <th>13</th>\n      <td>7.847661</td>\n      <td>1.622449</td>\n    </tr>\n    <tr>\n      <th>14</th>\n      <td>7.842905</td>\n      <td>1.785714</td>\n    </tr>\n    <tr>\n      <th>15</th>\n      <td>7.835510</td>\n      <td>1.948980</td>\n    </tr>\n    <tr>\n      <th>16</th>\n      <td>7.824639</td>\n      <td>2.112245</td>\n    </tr>\n    <tr>\n      <th>17</th>\n      <td>7.809455</td>\n      <td>2.275510</td>\n    </tr>\n    <tr>\n      <th>18</th>\n      <td>7.789123</td>\n      <td>2.438776</td>\n    </tr>\n    <tr>\n      <th>19</th>\n      <td>7.762897</td>\n      <td>2.602041</td>\n    </tr>\n    <tr>\n      <th>20</th>\n      <td>7.731277</td>\n      <td>2.765306</td>\n    </tr>\n    <tr>\n      <th>21</th>\n      <td>7.695661</td>\n      <td>2.928571</td>\n    </tr>\n    <tr>\n      <th>22</th>\n      <td>7.657466</td>\n      <td>3.091837</td>\n    </tr>\n    <tr>\n      <th>23</th>\n      <td>7.618110</td>\n      <td>3.255102</td>\n    </tr>\n    <tr>\n      <th>24</th>\n      <td>7.579011</td>\n      <td>3.418367</td>\n    </tr>\n    <tr>\n      <th>25</th>\n      <td>7.541607</td>\n      <td>3.581633</td>\n    </tr>\n    <tr>\n      <th>26</th>\n      <td>7.507846</td>\n      <td>3.744898</td>\n    </tr>\n    <tr>\n      <th>27</th>\n      <td>7.480186</td>\n      <td>3.908163</td>\n    </tr>\n    <tr>\n      <th>28</th>\n      <td>7.461103</td>\n      <td>4.071429</td>\n    </tr>\n    <tr>\n      <th>29</th>\n      <td>7.453076</td>\n      <td>4.234694</td>\n    </tr>\n    <tr>\n      <th>30</th>\n      <td>7.458584</td>\n      <td>4.397959</td>\n    </tr>\n    <tr>\n      <th>31</th>\n      <td>7.480040</td>\n      <td>4.561224</td>\n    </tr>\n    <tr>\n      <th>32</th>\n      <td>7.516961</td>\n      <td>4.724490</td>\n    </tr>\n    <tr>\n      <th>33</th>\n      <td>7.564840</td>\n      <td>4.887755</td>\n    </tr>\n    <tr>\n      <th>34</th>\n      <td>7.618874</td>\n      <td>5.051020</td>\n    </tr>\n    <tr>\n      <th>35</th>\n      <td>7.674261</td>\n      <td>5.214286</td>\n    </tr>\n    <tr>\n      <th>36</th>\n      <td>7.726199</td>\n      <td>5.377551</td>\n    </tr>\n    <tr>\n      <th>37</th>\n      <td>7.769906</td>\n      <td>5.540816</td>\n    </tr>\n    <tr>\n      <th>38</th>\n      <td>7.803106</td>\n      <td>5.704082</td>\n    </tr>\n    <tr>\n      <th>39</th>\n      <td>7.828395</td>\n      <td>5.867347</td>\n    </tr>\n    <tr>\n      <th>40</th>\n      <td>7.848927</td>\n      <td>6.030612</td>\n    </tr>\n    <tr>\n      <th>41</th>\n      <td>7.867854</td>\n      <td>6.193878</td>\n    </tr>\n    <tr>\n      <th>42</th>\n      <td>7.888331</td>\n      <td>6.357143</td>\n    </tr>\n    <tr>\n      <th>43</th>\n      <td>7.913513</td>\n      <td>6.520408</td>\n    </tr>\n    <tr>\n      <th>44</th>\n      <td>7.946552</td>\n      <td>6.683673</td>\n    </tr>\n    <tr>\n      <th>45</th>\n      <td>7.990603</td>\n      <td>6.846939</td>\n    </tr>\n    <tr>\n      <th>46</th>\n      <td>8.048819</td>\n      <td>7.010204</td>\n    </tr>\n    <tr>\n      <th>47</th>\n      <td>8.124355</td>\n      <td>7.173469</td>\n    </tr>\n    <tr>\n      <th>48</th>\n      <td>8.220364</td>\n      <td>7.336735</td>\n    </tr>\n    <tr>\n      <th>49</th>\n      <td>8.340000</td>\n      <td>7.500000</td>\n    </tr>\n  </tbody>\n</table>\n</div>"
     },
     "execution_count": 59,
     "metadata": {},
     "output_type": "execute_result"
    }
   ],
   "source": [
    "from scipy.interpolate import interp1d\n",
    "\n",
    "f = interp1d(df['lon'], df['sst'], kind=3)\n",
    "lon_array = np.linspace(-0.5, 7.5, 50)\n",
    "sst_array = f(lon_array)\n",
    "\n",
    "df = pd.DataFrame({\n",
    "    'sst': sst_array,\n",
    "    'lon': lon_array\n",
    "})\n",
    "df"
   ],
   "metadata": {
    "collapsed": false,
    "pycharm": {
     "name": "#%%\n"
    }
   }
  },
  {
   "cell_type": "code",
   "execution_count": 61,
   "outputs": [
    {
     "name": "stderr",
     "output_type": "stream",
     "text": [
      "c:\\environment\\python3.8.5\\lib\\site-packages\\plotnine\\ggplot.py:727: PlotnineWarning: Saving 6.4 x 4.8 in image.\n",
      "c:\\environment\\python3.8.5\\lib\\site-packages\\plotnine\\ggplot.py:730: PlotnineWarning: Filename: img/fish/variation of sst from 0.5°E to 6.5°E in the 53°N sea area.png\n"
     ]
    }
   ],
   "source": [
    "(\n",
    "    ggplot(df, aes('lon', 'sst', color='sst'))\n",
    "    + geom_line()\n",
    "    + geom_vline(aes(xintercept=3.5), linetype='--')\n",
    "    + labs(x='Longitude',\n",
    "           y='SST',\n",
    "           title='Variation of SST from 0.5°E to 6.5°E in the 53°N Sea Area',\n",
    "           color='SST')\n",
    ").save('img/fish/variation of sst from 0.5°E to 6.5°E in the 53°N sea area.png')"
   ],
   "metadata": {
    "collapsed": false,
    "pycharm": {
     "name": "#%%\n"
    }
   }
  },
  {
   "cell_type": "code",
   "execution_count": 76,
   "outputs": [],
   "source": [
    "def gaussian(x, mu, sigma):\n",
    "    return 1 / (np.sqrt(2*np.pi)*sigma) \\\n",
    "    * np.exp(-np.power(x-mu,2)/(2*np.power(sigma,2)))\n",
    "\n",
    "def fish_density(lon, lon1, lon2):\n",
    "    return gaussian(lon, lon1, np.sqrt(6))\\\n",
    "           + gaussian(lon, lon2, np.sqrt(6))\n",
    "\n",
    "def best_reward(start_lon, move_time, lon1, lon2):\n",
    "    if start_lon <= np.mean([lon1, lon2]):\n",
    "        return 1/day * (8*day-move_time) * fish_density(start_lon+0.2*move_time, lon1, lon2)\n",
    "    if start_lon > np.mean([lon1, lon2]):\n",
    "        return 1/day * (8*day-move_time) * fish_density(start_lon+0.2*move_time, lon1, lon2)"
   ],
   "metadata": {
    "collapsed": false,
    "pycharm": {
     "name": "#%%\n"
    }
   }
  },
  {
   "cell_type": "code",
   "execution_count": 117,
   "outputs": [
    {
     "data": {
      "text/plain": "{1: array([ 1.02402844, -0.45468692]),\n 3: array([11.16282841, -0.85601662]),\n 5: array([12.16535516, -1.20020519]),\n 7: array([12.16544996, -1.35008551])}"
     },
     "execution_count": 117,
     "metadata": {},
     "output_type": "execute_result"
    }
   ],
   "source": [
    "def best_reward_for_sa(x):\n",
    "    if x[0] < 0 or x[0] > 8 * day:\n",
    "        return np.Inf\n",
    "    if -.5 + 0.3288 * x[0] > 3.5:\n",
    "        return np.Inf\n",
    "    return -best_reward(-.5, x[0], 3.7, 4.6)\n",
    "\n",
    "sa = SA(func=best_reward_for_sa,\n",
    "        x0=[-.5])\n",
    "\n",
    "result_dict = {}\n",
    "for day in [1, 3, 5, 7]:\n",
    "    x_result, y_result = sa.run()\n",
    "    result_dict[day] = np.concatenate([x_result.reshape(-1,1),\n",
    "                                       np.array(y_result).reshape(-1,1)]).flatten()\n",
    "\n",
    "result_dict"
   ],
   "metadata": {
    "collapsed": false,
    "pycharm": {
     "name": "#%%\n"
    }
   }
  },
  {
   "cell_type": "code",
   "execution_count": 120,
   "outputs": [
    {
     "data": {
      "text/plain": "           t        reward\n0   1.024028  17345.942091\n0  11.162828  32656.349149\n0  12.165355  45786.867936\n0  12.165450  51504.682017",
      "text/html": "<div>\n<style scoped>\n    .dataframe tbody tr th:only-of-type {\n        vertical-align: middle;\n    }\n\n    .dataframe tbody tr th {\n        vertical-align: top;\n    }\n\n    .dataframe thead th {\n        text-align: right;\n    }\n</style>\n<table border=\"1\" class=\"dataframe\">\n  <thead>\n    <tr style=\"text-align: right;\">\n      <th></th>\n      <th>t</th>\n      <th>reward</th>\n    </tr>\n  </thead>\n  <tbody>\n    <tr>\n      <th>0</th>\n      <td>1.024028</td>\n      <td>17345.942091</td>\n    </tr>\n    <tr>\n      <th>0</th>\n      <td>11.162828</td>\n      <td>32656.349149</td>\n    </tr>\n    <tr>\n      <th>0</th>\n      <td>12.165355</td>\n      <td>45786.867936</td>\n    </tr>\n    <tr>\n      <th>0</th>\n      <td>12.165450</td>\n      <td>51504.682017</td>\n    </tr>\n  </tbody>\n</table>\n</div>"
     },
     "execution_count": 120,
     "metadata": {},
     "output_type": "execute_result"
    }
   ],
   "source": [
    "df_temp = pd.DataFrame(columns=['t', 'reward'])\n",
    "for result in result_dict:\n",
    "    df_temp = pd.concat([df_temp, pd.DataFrame({\n",
    "        't': [result_dict[result][0]],\n",
    "        'reward': -np.array([result_dict[result][1]]) * 12 * 3179.1,\n",
    "    })])\n",
    "df_temp"
   ],
   "metadata": {
    "collapsed": false,
    "pycharm": {
     "name": "#%%\n"
    }
   }
  },
  {
   "cell_type": "code",
   "execution_count": 121,
   "outputs": [
    {
     "data": {
      "text/plain": "           t        reward       border\n0   1.024028  17345.942091  Have Border\n0  11.162828  32656.349149  Have Border\n0  12.165355  45786.867936  Have Border\n0  12.165450  51504.682017  Have Border",
      "text/html": "<div>\n<style scoped>\n    .dataframe tbody tr th:only-of-type {\n        vertical-align: middle;\n    }\n\n    .dataframe tbody tr th {\n        vertical-align: top;\n    }\n\n    .dataframe thead th {\n        text-align: right;\n    }\n</style>\n<table border=\"1\" class=\"dataframe\">\n  <thead>\n    <tr style=\"text-align: right;\">\n      <th></th>\n      <th>t</th>\n      <th>reward</th>\n      <th>border</th>\n    </tr>\n  </thead>\n  <tbody>\n    <tr>\n      <th>0</th>\n      <td>1.024028</td>\n      <td>17345.942091</td>\n      <td>Have Border</td>\n    </tr>\n    <tr>\n      <th>0</th>\n      <td>11.162828</td>\n      <td>32656.349149</td>\n      <td>Have Border</td>\n    </tr>\n    <tr>\n      <th>0</th>\n      <td>12.165355</td>\n      <td>45786.867936</td>\n      <td>Have Border</td>\n    </tr>\n    <tr>\n      <th>0</th>\n      <td>12.165450</td>\n      <td>51504.682017</td>\n      <td>Have Border</td>\n    </tr>\n  </tbody>\n</table>\n</div>"
     },
     "execution_count": 121,
     "metadata": {},
     "output_type": "execute_result"
    }
   ],
   "source": [
    "df_with_border = df_temp.copy()\n",
    "df_with_border['border'] = 'Have Border'\n",
    "df_with_border"
   ],
   "metadata": {
    "collapsed": false,
    "pycharm": {
     "name": "#%%\n"
    }
   }
  },
  {
   "cell_type": "code",
   "execution_count": 114,
   "outputs": [
    {
     "data": {
      "text/plain": "           t        reward           border\n0   1.024045  17345.942091  Not Have Border\n0  11.162271  32656.349228  Not Have Border\n0  16.612995  49591.327599  Not Have Border\n0  19.048984  60934.370476  Not Have Border",
      "text/html": "<div>\n<style scoped>\n    .dataframe tbody tr th:only-of-type {\n        vertical-align: middle;\n    }\n\n    .dataframe tbody tr th {\n        vertical-align: top;\n    }\n\n    .dataframe thead th {\n        text-align: right;\n    }\n</style>\n<table border=\"1\" class=\"dataframe\">\n  <thead>\n    <tr style=\"text-align: right;\">\n      <th></th>\n      <th>t</th>\n      <th>reward</th>\n      <th>border</th>\n    </tr>\n  </thead>\n  <tbody>\n    <tr>\n      <th>0</th>\n      <td>1.024045</td>\n      <td>17345.942091</td>\n      <td>Not Have Border</td>\n    </tr>\n    <tr>\n      <th>0</th>\n      <td>11.162271</td>\n      <td>32656.349228</td>\n      <td>Not Have Border</td>\n    </tr>\n    <tr>\n      <th>0</th>\n      <td>16.612995</td>\n      <td>49591.327599</td>\n      <td>Not Have Border</td>\n    </tr>\n    <tr>\n      <th>0</th>\n      <td>19.048984</td>\n      <td>60934.370476</td>\n      <td>Not Have Border</td>\n    </tr>\n  </tbody>\n</table>\n</div>"
     },
     "execution_count": 114,
     "metadata": {},
     "output_type": "execute_result"
    }
   ],
   "source": [
    "df_not_with_border = df_temp.copy()\n",
    "df_not_with_border['border'] = 'Not Have Border'\n",
    "df_not_with_border"
   ],
   "metadata": {
    "collapsed": false,
    "pycharm": {
     "name": "#%%\n"
    }
   }
  },
  {
   "cell_type": "code",
   "execution_count": 126,
   "outputs": [
    {
     "data": {
      "text/plain": "           t        reward           border day\n0   1.024028  17345.942091      Have Border   1\n1  11.162828  32656.349149      Have Border   3\n2  12.165355  45786.867936      Have Border   5\n3  12.165450  51504.682017      Have Border   7\n4   1.024045  17345.942091  Not Have Border   1\n5  11.162271  32656.349228  Not Have Border   3\n6  16.612995  49591.327599  Not Have Border   5\n7  19.048984  60934.370476  Not Have Border   7",
      "text/html": "<div>\n<style scoped>\n    .dataframe tbody tr th:only-of-type {\n        vertical-align: middle;\n    }\n\n    .dataframe tbody tr th {\n        vertical-align: top;\n    }\n\n    .dataframe thead th {\n        text-align: right;\n    }\n</style>\n<table border=\"1\" class=\"dataframe\">\n  <thead>\n    <tr style=\"text-align: right;\">\n      <th></th>\n      <th>t</th>\n      <th>reward</th>\n      <th>border</th>\n      <th>day</th>\n    </tr>\n  </thead>\n  <tbody>\n    <tr>\n      <th>0</th>\n      <td>1.024028</td>\n      <td>17345.942091</td>\n      <td>Have Border</td>\n      <td>1</td>\n    </tr>\n    <tr>\n      <th>1</th>\n      <td>11.162828</td>\n      <td>32656.349149</td>\n      <td>Have Border</td>\n      <td>3</td>\n    </tr>\n    <tr>\n      <th>2</th>\n      <td>12.165355</td>\n      <td>45786.867936</td>\n      <td>Have Border</td>\n      <td>5</td>\n    </tr>\n    <tr>\n      <th>3</th>\n      <td>12.165450</td>\n      <td>51504.682017</td>\n      <td>Have Border</td>\n      <td>7</td>\n    </tr>\n    <tr>\n      <th>4</th>\n      <td>1.024045</td>\n      <td>17345.942091</td>\n      <td>Not Have Border</td>\n      <td>1</td>\n    </tr>\n    <tr>\n      <th>5</th>\n      <td>11.162271</td>\n      <td>32656.349228</td>\n      <td>Not Have Border</td>\n      <td>3</td>\n    </tr>\n    <tr>\n      <th>6</th>\n      <td>16.612995</td>\n      <td>49591.327599</td>\n      <td>Not Have Border</td>\n      <td>5</td>\n    </tr>\n    <tr>\n      <th>7</th>\n      <td>19.048984</td>\n      <td>60934.370476</td>\n      <td>Not Have Border</td>\n      <td>7</td>\n    </tr>\n  </tbody>\n</table>\n</div>"
     },
     "execution_count": 126,
     "metadata": {},
     "output_type": "execute_result"
    }
   ],
   "source": [
    "df_temp = pd.concat([df_with_border, df_not_with_border])\n",
    "df_temp = df_temp.reset_index(drop=True)\n",
    "df_temp['day'] = ['1','3','5','7','1','3','5','7']\n",
    "df_temp"
   ],
   "metadata": {
    "collapsed": false,
    "pycharm": {
     "name": "#%%\n"
    }
   }
  },
  {
   "cell_type": "code",
   "execution_count": 127,
   "outputs": [
    {
     "name": "stderr",
     "output_type": "stream",
     "text": [
      "c:\\environment\\python3.8.5\\lib\\site-packages\\plotnine\\ggplot.py:727: PlotnineWarning: Saving 6.4 x 4.8 in image.\n",
      "c:\\environment\\python3.8.5\\lib\\site-packages\\plotnine\\ggplot.py:730: PlotnineWarning: Filename: img/fish/the relationship between income and borders.png\n"
     ]
    }
   ],
   "source": [
    "(\n",
    "    ggplot(df_temp, aes('day', 'reward', fill='border'))\n",
    "    + geom_col(position='dodge')\n",
    "    + labs(x='Time at Sea, [Day]',\n",
    "           y='Reward, [Pounds]',\n",
    "           title='the Relationship between Income and Borders',\n",
    "           color='Border')\n",
    ").save('img/fish/the relationship between income and borders.png')\n"
   ],
   "metadata": {
    "collapsed": false,
    "pycharm": {
     "name": "#%%\n"
    }
   }
  }
 ],
 "metadata": {
  "kernelspec": {
   "display_name": "Python 3",
   "language": "python",
   "name": "python3"
  },
  "language_info": {
   "codemirror_mode": {
    "name": "ipython",
    "version": 2
   },
   "file_extension": ".py",
   "mimetype": "text/x-python",
   "name": "python",
   "nbconvert_exporter": "python",
   "pygments_lexer": "ipython2",
   "version": "2.7.6"
  }
 },
 "nbformat": 4,
 "nbformat_minor": 0
}