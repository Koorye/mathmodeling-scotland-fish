{
 "cells": [
  {
   "cell_type": "code",
   "execution_count": 1,
   "metadata": {
    "collapsed": true,
    "pycharm": {
     "name": "#%%\n"
    }
   },
   "outputs": [],
   "source": [
    "import numpy as np\n",
    "import pandas as pd\n",
    "from plotnine import *"
   ]
  },
  {
   "cell_type": "code",
   "execution_count": 14,
   "outputs": [
    {
     "data": {
      "text/plain": "array([-1.3828508 , -1.24580891, -0.99459481, -0.7042101 , -0.12589119,\n        0.74556134,  1.47324427,  1.59103698,  1.13569994,  0.6583994 ,\n       -0.1331331 , -1.04194775, -1.3828508 , -1.24580891, -0.99459481,\n       -0.7042101 , -0.12589119,  0.74556134,  1.47324427,  1.59103698,\n        1.13569994,  0.6583994 , -0.1331331 , -1.04194775, -1.3828508 ,\n       -1.24580891, -0.99459481, -0.7042101 , -0.12589119,  0.74556134,\n        1.47324427,  1.59103698,  1.13569994,  0.6583994 , -0.1331331 ,\n       -1.04194775, -1.3828508 , -1.24580891, -0.99459481, -0.7042101 ,\n       -0.12589119,  0.74556134,  1.47324427,  1.59103698,  1.13569994,\n        0.6583994 , -0.1331331 , -1.04194775, -1.3828508 , -1.24580891,\n       -0.99459481, -0.7042101 , -0.12589119,  0.74556134,  1.47324427,\n        1.59103698,  1.13569994,  0.6583994 , -0.1331331 , -1.04194775,\n       -1.3828508 , -1.24580891, -0.99459481, -0.7042101 , -0.12589119,\n        0.74556134,  1.47324427,  1.59103698,  1.13569994,  0.6583994 ,\n       -0.1331331 , -1.04194775, -1.3828508 , -1.24580891, -0.99459481,\n       -0.7042101 , -0.12589119,  0.74556134,  1.47324427,  1.59103698,\n        1.13569994,  0.6583994 , -0.1331331 , -1.04194775, -1.3828508 ,\n       -1.24580891, -0.99459481, -0.7042101 , -0.12589119,  0.74556134,\n        1.47324427,  1.59103698,  1.13569994,  0.6583994 , -0.1331331 ,\n       -1.04194775, -1.3828508 , -1.24580891, -0.99459481, -0.7042101 ,\n       -0.12589119,  0.74556134,  1.47324427,  1.59103698,  1.13569994,\n        0.6583994 , -0.1331331 , -1.04194775, -1.3828508 , -1.24580891,\n       -0.99459481, -0.7042101 , -0.12589119,  0.74556134,  1.47324427,\n        1.59103698,  1.13569994,  0.6583994 , -0.1331331 , -1.04194775,\n       -1.3828508 , -1.24580891, -0.99459481, -0.7042101 , -0.12589119,\n        0.74556134,  1.47324427,  1.59103698,  1.13569994,  0.6583994 ,\n       -0.1331331 , -1.04194775, -1.3828508 , -1.24580891, -0.99459481,\n       -0.7042101 , -0.12589119,  0.74556134,  1.47324427,  1.59103698,\n        1.13569994,  0.6583994 , -0.1331331 , -1.04194775, -1.3828508 ,\n       -1.24580891, -0.99459481, -0.7042101 , -0.12589119,  0.74556134,\n        1.47324427,  1.59103698,  1.13569994,  0.6583994 , -0.1331331 ,\n       -1.04194775, -1.3828508 , -1.24580891, -0.99459481, -0.7042101 ,\n       -0.12589119,  0.74556134,  1.47324427,  1.59103698,  1.13569994,\n        0.6583994 , -0.1331331 , -1.04194775, -1.3828508 , -1.24580891,\n       -0.99459481, -0.7042101 , -0.12589119,  0.74556134,  1.47324427,\n        1.59103698,  1.13569994,  0.6583994 , -0.1331331 , -1.04194775,\n       -1.3828508 , -1.24580891, -0.99459481, -0.7042101 , -0.12589119,\n        0.74556134,  1.47324427,  1.59103698,  1.13569994,  0.6583994 ,\n       -0.1331331 , -1.04194775, -1.3828508 , -1.24580891, -0.99459481,\n       -0.7042101 , -0.12589119,  0.74556134,  1.47324427,  1.59103698,\n        1.13569994,  0.6583994 , -0.1331331 , -1.04194775, -1.3828508 ,\n       -1.24580891, -0.99459481, -0.7042101 , -0.12589119,  0.74556134,\n        1.47324427,  1.59103698,  1.13569994,  0.6583994 , -0.1331331 ,\n       -1.04194775, -1.3828508 , -1.24580891, -0.99459481, -0.7042101 ,\n       -0.12589119,  0.74556134,  1.47324427,  1.59103698,  1.13569994,\n        0.6583994 , -0.1331331 , -1.04194775, -1.3828508 , -1.24580891,\n       -0.99459481, -0.7042101 , -0.12589119,  0.74556134,  1.47324427,\n        1.59103698,  1.13569994,  0.6583994 , -0.1331331 , -1.04194775,\n       -1.3828508 , -1.24580891, -0.99459481, -0.7042101 , -0.12589119,\n        0.74556134,  1.47324427,  1.59103698,  1.13569994,  0.6583994 ,\n       -0.1331331 , -1.04194775, -1.3828508 , -1.24580891, -0.99459481,\n       -0.7042101 , -0.12589119,  0.74556134,  1.47324427,  1.59103698,\n        1.13569994,  0.6583994 , -0.1331331 , -1.04194775, -1.3828508 ,\n       -1.24580891, -0.99459481, -0.7042101 , -0.12589119,  0.74556134,\n        1.47324427,  1.59103698,  1.13569994,  0.6583994 , -0.1331331 ,\n       -1.04194775, -1.3828508 , -1.24580891, -0.99459481, -0.7042101 ,\n       -0.12589119,  0.74556134,  1.47324427,  1.59103698,  1.13569994,\n        0.6583994 , -0.1331331 , -1.04194775, -1.3828508 , -1.24580891,\n       -0.99459481, -0.7042101 , -0.12589119,  0.74556134,  1.47324427,\n        1.59103698,  1.13569994,  0.6583994 , -0.1331331 , -1.04194775,\n       -1.3828508 , -1.24580891, -0.99459481, -0.7042101 , -0.12589119,\n        0.74556134,  1.47324427,  1.59103698,  1.13569994,  0.6583994 ,\n       -0.1331331 , -1.04194775, -1.3828508 , -1.24580891, -0.99459481,\n       -0.7042101 , -0.12589119,  0.74556134,  1.47324427,  1.59103698,\n        1.13569994,  0.6583994 , -0.1331331 , -1.04194775, -1.3828508 ,\n       -1.24580891, -0.99459481, -0.7042101 , -0.12589119,  0.74556134,\n        1.47324427,  1.59103698,  1.13569994,  0.6583994 , -0.1331331 ,\n       -1.04194775, -1.3828508 , -1.24580891, -0.99459481, -0.7042101 ,\n       -0.12589119,  0.74556134,  1.47324427,  1.59103698,  1.13569994,\n        0.6583994 , -0.1331331 , -1.04194775, -1.3828508 , -1.24580891,\n       -0.99459481, -0.7042101 , -0.12589119,  0.74556134,  1.47324427,\n        1.59103698,  1.13569994,  0.6583994 , -0.1331331 , -1.04194775,\n       -1.3828508 , -1.24580891, -0.99459481, -0.7042101 , -0.12589119,\n        0.74556134,  1.47324427,  1.59103698,  1.13569994,  0.6583994 ,\n       -0.1331331 , -1.04194775, -1.3828508 , -1.24580891, -0.99459481,\n       -0.7042101 , -0.12589119,  0.74556134,  1.47324427,  1.59103698,\n        1.13569994,  0.6583994 , -0.1331331 , -1.04194775, -1.3828508 ,\n       -1.24580891, -0.99459481, -0.7042101 , -0.12589119,  0.74556134,\n        1.47324427,  1.59103698,  1.13569994,  0.6583994 , -0.1331331 ,\n       -1.04194775, -1.3828508 , -1.24580891, -0.99459481, -0.7042101 ,\n       -0.12589119,  0.74556134,  1.47324427,  1.59103698,  1.13569994,\n        0.6583994 , -0.1331331 , -1.04194775, -1.3828508 , -1.24580891,\n       -0.99459481, -0.7042101 , -0.12589119,  0.74556134,  1.47324427,\n        1.59103698,  1.13569994,  0.6583994 , -0.1331331 , -1.04194775,\n       -1.3828508 , -1.24580891, -0.99459481, -0.7042101 , -0.12589119,\n        0.74556134,  1.47324427,  1.59103698,  1.13569994,  0.6583994 ,\n       -0.1331331 , -1.04194775, -1.3828508 , -1.24580891, -0.99459481,\n       -0.7042101 , -0.12589119,  0.74556134,  1.47324427,  1.59103698,\n        1.13569994,  0.6583994 , -0.1331331 , -1.04194775, -1.3828508 ,\n       -1.24580891, -0.99459481, -0.7042101 , -0.12589119,  0.74556134,\n        1.47324427,  1.59103698,  1.13569994,  0.6583994 , -0.1331331 ,\n       -1.04194775, -1.3828508 , -1.24580891, -0.99459481, -0.7042101 ,\n       -0.12589119,  0.74556134,  1.47324427,  1.59103698,  1.13569994,\n        0.6583994 , -0.1331331 , -1.04194775, -1.3828508 , -1.24580891,\n       -0.99459481, -0.7042101 , -0.12589119,  0.74556134,  1.47324427,\n        1.59103698,  1.13569994,  0.6583994 , -0.1331331 , -1.04194775,\n       -1.3828508 , -1.24580891, -0.99459481, -0.7042101 , -0.12589119,\n        0.74556134,  1.47324427,  1.59103698,  1.13569994,  0.6583994 ,\n       -0.1331331 , -1.04194775, -1.3828508 , -1.24580891, -0.99459481,\n       -0.7042101 , -0.12589119,  0.74556134,  1.47324427,  1.59103698,\n        1.13569994,  0.6583994 , -0.1331331 , -1.04194775, -1.3828508 ,\n       -1.24580891, -0.99459481, -0.7042101 , -0.12589119,  0.74556134,\n        1.47324427,  1.59103698,  1.13569994,  0.6583994 , -0.1331331 ,\n       -1.04194775, -1.3828508 , -1.24580891, -0.99459481, -0.7042101 ,\n       -0.12589119,  0.74556134,  1.47324427,  1.59103698,  1.13569994,\n        0.6583994 , -0.1331331 , -1.04194775, -1.3828508 , -1.24580891,\n       -0.99459481, -0.7042101 , -0.12589119,  0.74556134,  1.47324427,\n        1.59103698,  1.13569994,  0.6583994 , -0.1331331 , -1.04194775,\n       -1.3828508 , -1.24580891, -0.99459481, -0.7042101 , -0.12589119,\n        0.74556134,  1.47324427,  1.59103698,  1.13569994,  0.6583994 ,\n       -0.1331331 , -1.04194775, -1.3828508 , -1.24580891, -0.99459481,\n       -0.7042101 , -0.12589119,  0.74556134,  1.47324427,  1.59103698,\n        1.13569994,  0.6583994 , -0.1331331 , -1.04194775, -1.3828508 ,\n       -1.24580891, -0.99459481, -0.7042101 , -0.12589119,  0.74556134,\n        1.47324427,  1.59103698,  1.13569994,  0.6583994 , -0.1331331 ,\n       -1.04194775, -1.3828508 , -1.24580891, -0.99459481, -0.7042101 ,\n       -0.12589119,  0.74556134,  1.47324427,  1.59103698,  1.13569994,\n        0.6583994 , -0.1331331 , -1.04194775, -1.3828508 , -1.24580891,\n       -0.99459481, -0.7042101 , -0.12589119,  0.74556134,  1.47324427,\n        1.59103698,  1.13569994,  0.6583994 , -0.1331331 , -1.04194775])"
     },
     "execution_count": 14,
     "metadata": {},
     "output_type": "execute_result"
    }
   ],
   "source": [
    "df_decomposed = pd.read_csv('data/sst_after_decomposed.csv')\n",
    "seasonal_series = df_decomposed['seasonal'][6:6+12]\n",
    "seasonal_series = np.array(seasonal_series)\n",
    "temp_list = []\n",
    "for i in range(50):\n",
    "    temp_list.append(seasonal_series.copy())\n",
    "seasonal_series = np.concatenate(temp_list)\n",
    "seasonal_series"
   ],
   "metadata": {
    "collapsed": false,
    "pycharm": {
     "name": "#%%\n"
    }
   }
  },
  {
   "cell_type": "code",
   "execution_count": 18,
   "outputs": [],
   "source": [
    "df = pd.read_csv('data/lat_of_fish.csv')\n",
    "df['seasonal'] = seasonal_series\n",
    "df.to_csv('data/lat_of_fish.csv', index=None)"
   ],
   "metadata": {
    "collapsed": false,
    "pycharm": {
     "name": "#%%\n"
    }
   }
  },
  {
   "cell_type": "code",
   "execution_count": 37,
   "outputs": [
    {
     "data": {
      "text/plain": "          sst  lat_of_mackerel  lat_of_menhaden         time  seasonal  \\\n0    6.399033        50.000000        53.000000  2018.000000 -1.382851   \n1    6.401424        50.003253        53.003253  2018.083472 -1.245809   \n2    6.404461        50.007385        53.007385  2018.166945 -0.994595   \n3    6.407805        50.011934        53.011934  2018.250417 -0.704210   \n4    6.411156        50.016494        53.016494  2018.333890 -0.125891   \n..        ...              ...              ...          ...       ...   \n595  7.626881        53.261578        56.261578  2067.666110  1.591037   \n596  7.628936        52.809037        55.809037  2067.749583  1.135700   \n597  7.630992        52.334534        55.334534  2067.833055  0.658399   \n598  7.633048        51.545798        54.545798  2067.916528 -0.133133   \n599  7.635103        50.639780        53.639780  2068.000000 -1.041948   \n\n      is_seasonal  \n0    Not Seasonal  \n1    Not Seasonal  \n2    Not Seasonal  \n3    Not Seasonal  \n4    Not Seasonal  \n..            ...  \n595      Seasonal  \n596      Seasonal  \n597      Seasonal  \n598      Seasonal  \n599      Seasonal  \n\n[1200 rows x 6 columns]",
      "text/html": "<div>\n<style scoped>\n    .dataframe tbody tr th:only-of-type {\n        vertical-align: middle;\n    }\n\n    .dataframe tbody tr th {\n        vertical-align: top;\n    }\n\n    .dataframe thead th {\n        text-align: right;\n    }\n</style>\n<table border=\"1\" class=\"dataframe\">\n  <thead>\n    <tr style=\"text-align: right;\">\n      <th></th>\n      <th>sst</th>\n      <th>lat_of_mackerel</th>\n      <th>lat_of_menhaden</th>\n      <th>time</th>\n      <th>seasonal</th>\n      <th>is_seasonal</th>\n    </tr>\n  </thead>\n  <tbody>\n    <tr>\n      <th>0</th>\n      <td>6.399033</td>\n      <td>50.000000</td>\n      <td>53.000000</td>\n      <td>2018.000000</td>\n      <td>-1.382851</td>\n      <td>Not Seasonal</td>\n    </tr>\n    <tr>\n      <th>1</th>\n      <td>6.401424</td>\n      <td>50.003253</td>\n      <td>53.003253</td>\n      <td>2018.083472</td>\n      <td>-1.245809</td>\n      <td>Not Seasonal</td>\n    </tr>\n    <tr>\n      <th>2</th>\n      <td>6.404461</td>\n      <td>50.007385</td>\n      <td>53.007385</td>\n      <td>2018.166945</td>\n      <td>-0.994595</td>\n      <td>Not Seasonal</td>\n    </tr>\n    <tr>\n      <th>3</th>\n      <td>6.407805</td>\n      <td>50.011934</td>\n      <td>53.011934</td>\n      <td>2018.250417</td>\n      <td>-0.704210</td>\n      <td>Not Seasonal</td>\n    </tr>\n    <tr>\n      <th>4</th>\n      <td>6.411156</td>\n      <td>50.016494</td>\n      <td>53.016494</td>\n      <td>2018.333890</td>\n      <td>-0.125891</td>\n      <td>Not Seasonal</td>\n    </tr>\n    <tr>\n      <th>...</th>\n      <td>...</td>\n      <td>...</td>\n      <td>...</td>\n      <td>...</td>\n      <td>...</td>\n      <td>...</td>\n    </tr>\n    <tr>\n      <th>595</th>\n      <td>7.626881</td>\n      <td>53.261578</td>\n      <td>56.261578</td>\n      <td>2067.666110</td>\n      <td>1.591037</td>\n      <td>Seasonal</td>\n    </tr>\n    <tr>\n      <th>596</th>\n      <td>7.628936</td>\n      <td>52.809037</td>\n      <td>55.809037</td>\n      <td>2067.749583</td>\n      <td>1.135700</td>\n      <td>Seasonal</td>\n    </tr>\n    <tr>\n      <th>597</th>\n      <td>7.630992</td>\n      <td>52.334534</td>\n      <td>55.334534</td>\n      <td>2067.833055</td>\n      <td>0.658399</td>\n      <td>Seasonal</td>\n    </tr>\n    <tr>\n      <th>598</th>\n      <td>7.633048</td>\n      <td>51.545798</td>\n      <td>54.545798</td>\n      <td>2067.916528</td>\n      <td>-0.133133</td>\n      <td>Seasonal</td>\n    </tr>\n    <tr>\n      <th>599</th>\n      <td>7.635103</td>\n      <td>50.639780</td>\n      <td>53.639780</td>\n      <td>2068.000000</td>\n      <td>-1.041948</td>\n      <td>Seasonal</td>\n    </tr>\n  </tbody>\n</table>\n<p>1200 rows × 6 columns</p>\n</div>"
     },
     "execution_count": 37,
     "metadata": {},
     "output_type": "execute_result"
    }
   ],
   "source": [
    "df = pd.read_csv('data/lat_of_fish.csv')\n",
    "seasonal_series = df['seasonal']\n",
    "df_temp = df.copy()\n",
    "df_temp['lat_of_mackerel'] += seasonal_series\n",
    "df_temp['lat_of_menhaden'] += seasonal_series\n",
    "df['is_seasonal']='Not Seasonal'\n",
    "df_temp['is_seasonal']='Seasonal'\n",
    "df = pd.concat([df, df_temp])\n",
    "df"
   ],
   "metadata": {
    "collapsed": false,
    "pycharm": {
     "name": "#%%\n"
    }
   }
  },
  {
   "cell_type": "code",
   "execution_count": 64,
   "outputs": [
    {
     "name": "stderr",
     "output_type": "stream",
     "text": [
      "c:\\environment\\python3.8.5\\lib\\site-packages\\plotnine\\ggplot.py:727: PlotnineWarning: Saving 6.4 x 4.8 in image.\n",
      "c:\\environment\\python3.8.5\\lib\\site-packages\\plotnine\\ggplot.py:730: PlotnineWarning: Filename: img/fish/the relation of latitude of fish distribution with time.png\n"
     ]
    }
   ],
   "source": [
    "(\n",
    "    ggplot(df, aes('time', group='is_seasonal', color='is_seasonal'))\n",
    "    + geom_line(aes(y='lat_of_menhaden'))\n",
    "    + geom_line(aes(y='lat_of_mackerel'))\n",
    "    + labs(x='Year', y='Latitude',\n",
    "           title='the Relation of Latitude of Fish Distribution with Time',\n",
    "           color='')\n",
    "    + annotate('text', x=2025, y=55.7, label='Menhaden')\n",
    "    + annotate('text', x=2060, y=49, label='Mackerel')\n",
    ").save('img/fish/the relation of latitude of fish distribution with time.png')"
   ],
   "metadata": {
    "collapsed": false,
    "pycharm": {
     "name": "#%%\n"
    }
   }
  },
  {
   "cell_type": "code",
   "execution_count": 46,
   "outputs": [
    {
     "data": {
      "text/plain": "            time        lat      seasonal\n0    2018.000000  53.000000  Not Seasonal\n1    2018.083472  53.002504  Not Seasonal\n2    2018.166945  53.005008  Not Seasonal\n3    2018.250417  53.007513  Not Seasonal\n4    2018.333890  53.010017  Not Seasonal\n..           ...        ...           ...\n595  2067.666110  56.081020      Seasonal\n596  2067.749583  55.628187      Seasonal\n597  2067.833055  55.153391      Seasonal\n598  2067.916528  54.364363      Seasonal\n599  2068.000000  53.458052      Seasonal\n\n[1200 rows x 3 columns]",
      "text/html": "<div>\n<style scoped>\n    .dataframe tbody tr th:only-of-type {\n        vertical-align: middle;\n    }\n\n    .dataframe tbody tr th {\n        vertical-align: top;\n    }\n\n    .dataframe thead th {\n        text-align: right;\n    }\n</style>\n<table border=\"1\" class=\"dataframe\">\n  <thead>\n    <tr style=\"text-align: right;\">\n      <th></th>\n      <th>time</th>\n      <th>lat</th>\n      <th>seasonal</th>\n    </tr>\n  </thead>\n  <tbody>\n    <tr>\n      <th>0</th>\n      <td>2018.000000</td>\n      <td>53.000000</td>\n      <td>Not Seasonal</td>\n    </tr>\n    <tr>\n      <th>1</th>\n      <td>2018.083472</td>\n      <td>53.002504</td>\n      <td>Not Seasonal</td>\n    </tr>\n    <tr>\n      <th>2</th>\n      <td>2018.166945</td>\n      <td>53.005008</td>\n      <td>Not Seasonal</td>\n    </tr>\n    <tr>\n      <th>3</th>\n      <td>2018.250417</td>\n      <td>53.007513</td>\n      <td>Not Seasonal</td>\n    </tr>\n    <tr>\n      <th>4</th>\n      <td>2018.333890</td>\n      <td>53.010017</td>\n      <td>Not Seasonal</td>\n    </tr>\n    <tr>\n      <th>...</th>\n      <td>...</td>\n      <td>...</td>\n      <td>...</td>\n    </tr>\n    <tr>\n      <th>595</th>\n      <td>2067.666110</td>\n      <td>56.081020</td>\n      <td>Seasonal</td>\n    </tr>\n    <tr>\n      <th>596</th>\n      <td>2067.749583</td>\n      <td>55.628187</td>\n      <td>Seasonal</td>\n    </tr>\n    <tr>\n      <th>597</th>\n      <td>2067.833055</td>\n      <td>55.153391</td>\n      <td>Seasonal</td>\n    </tr>\n    <tr>\n      <th>598</th>\n      <td>2067.916528</td>\n      <td>54.364363</td>\n      <td>Seasonal</td>\n    </tr>\n    <tr>\n      <th>599</th>\n      <td>2068.000000</td>\n      <td>53.458052</td>\n      <td>Seasonal</td>\n    </tr>\n  </tbody>\n</table>\n<p>1200 rows × 3 columns</p>\n</div>"
     },
     "execution_count": 46,
     "metadata": {},
     "output_type": "execute_result"
    }
   ],
   "source": [
    "df_temp = df.copy()\n",
    "df_temp['lat'] = df_temp['lat'] + seasonal_series\n",
    "df_temp['seasonal'] = 'Seasonal'\n",
    "df['seasonal'] = 'Not Seasonal'\n",
    "df = pd.concat([df, df_temp])\n",
    "df"
   ],
   "metadata": {
    "collapsed": false,
    "pycharm": {
     "name": "#%%\n"
    }
   }
  },
  {
   "cell_type": "code",
   "execution_count": 47,
   "outputs": [
    {
     "name": "stderr",
     "output_type": "stream",
     "text": [
      "c:\\environment\\python3.8.5\\lib\\site-packages\\plotnine\\ggplot.py:727: PlotnineWarning: Saving 6.4 x 4.8 in image.\n",
      "c:\\environment\\python3.8.5\\lib\\site-packages\\plotnine\\ggplot.py:730: PlotnineWarning: Filename: img/fish/the relation of latitude of fish distribution with time.png\n"
     ]
    }
   ],
   "source": [
    "(\n",
    "    ggplot(df, aes('time', 'lat', group='seasonal', color='seasonal'))\n",
    "    + geom_line()\n",
    "    + labs(x='Year',\n",
    "           y='Latitude',\n",
    "           title='the Relation of Latitude of Fish Distribution with Time',\n",
    "           color='Latitude')\n",
    ").save('img/fish/the relation of latitude of fish distribution with time.png')"
   ],
   "metadata": {
    "collapsed": false,
    "pycharm": {
     "name": "#%%\n"
    }
   }
  },
  {
   "cell_type": "code",
   "execution_count": 30,
   "outputs": [
    {
     "name": "stdout",
     "output_type": "stream",
     "text": [
      "best_x: [0 0] best_y 1\n"
     ]
    }
   ],
   "source": [
    "def fun(x):\n",
    "    return 1 + x[0]**2 + x[1]**2\n",
    "\n",
    "from sko.SA import SA\n",
    "\n",
    "sa = SA(func=fun,\n",
    "        x0=[1,1],\n",
    "        T_max=1,\n",
    "        T_min=1e-9,\n",
    "        L=300,\n",
    "        max_stay_counter=150)\n",
    "\n",
    "best_x, best_y = sa.run()\n",
    "print('best_x:', best_x, 'best_y', best_y)\n"
   ],
   "metadata": {
    "collapsed": false,
    "pycharm": {
     "name": "#%%\n"
    }
   }
  }
 ],
 "metadata": {
  "kernelspec": {
   "display_name": "Python 3",
   "language": "python",
   "name": "python3"
  },
  "language_info": {
   "codemirror_mode": {
    "name": "ipython",
    "version": 2
   },
   "file_extension": ".py",
   "mimetype": "text/x-python",
   "name": "python",
   "nbconvert_exporter": "python",
   "pygments_lexer": "ipython2",
   "version": "2.7.6"
  }
 },
 "nbformat": 4,
 "nbformat_minor": 0
}