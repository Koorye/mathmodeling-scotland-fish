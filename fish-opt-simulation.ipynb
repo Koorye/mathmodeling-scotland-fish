{
 "cells": [
  {
   "cell_type": "code",
   "execution_count": 27,
   "metadata": {
    "collapsed": true
   },
   "outputs": [],
   "source": [
    "import numpy as np\n",
    "import pandas as pd"
   ]
  },
  {
   "cell_type": "code",
   "execution_count": 28,
   "outputs": [],
   "source": [
    "def gaussian(x, mu, sigma):\n",
    "    return 1 / (np.sqrt(2*np.pi)*sigma) \\\n",
    "    * np.exp(-np.power(x-mu,2)/(2*np.power(sigma,2)))"
   ],
   "metadata": {
    "collapsed": false,
    "pycharm": {
     "name": "#%%\n"
    }
   }
  },
  {
   "cell_type": "code",
   "execution_count": 190,
   "outputs": [
    {
     "data": {
      "text/plain": "        sst  lat_of_mackerel  lat_of_menhaden         time  seasonal\n0  6.399033        50.000000        53.000000  2018.000000 -1.382851\n1  6.401424        50.003253        53.003253  2018.083472 -1.245809\n2  6.404461        50.007385        53.007385  2018.166945 -0.994595\n3  6.407805        50.011934        53.011934  2018.250417 -0.704210\n4  6.411156        50.016494        53.016494  2018.333890 -0.125891",
      "text/html": "<div>\n<style scoped>\n    .dataframe tbody tr th:only-of-type {\n        vertical-align: middle;\n    }\n\n    .dataframe tbody tr th {\n        vertical-align: top;\n    }\n\n    .dataframe thead th {\n        text-align: right;\n    }\n</style>\n<table border=\"1\" class=\"dataframe\">\n  <thead>\n    <tr style=\"text-align: right;\">\n      <th></th>\n      <th>sst</th>\n      <th>lat_of_mackerel</th>\n      <th>lat_of_menhaden</th>\n      <th>time</th>\n      <th>seasonal</th>\n    </tr>\n  </thead>\n  <tbody>\n    <tr>\n      <th>0</th>\n      <td>6.399033</td>\n      <td>50.000000</td>\n      <td>53.000000</td>\n      <td>2018.000000</td>\n      <td>-1.382851</td>\n    </tr>\n    <tr>\n      <th>1</th>\n      <td>6.401424</td>\n      <td>50.003253</td>\n      <td>53.003253</td>\n      <td>2018.083472</td>\n      <td>-1.245809</td>\n    </tr>\n    <tr>\n      <th>2</th>\n      <td>6.404461</td>\n      <td>50.007385</td>\n      <td>53.007385</td>\n      <td>2018.166945</td>\n      <td>-0.994595</td>\n    </tr>\n    <tr>\n      <th>3</th>\n      <td>6.407805</td>\n      <td>50.011934</td>\n      <td>53.011934</td>\n      <td>2018.250417</td>\n      <td>-0.704210</td>\n    </tr>\n    <tr>\n      <th>4</th>\n      <td>6.411156</td>\n      <td>50.016494</td>\n      <td>53.016494</td>\n      <td>2018.333890</td>\n      <td>-0.125891</td>\n    </tr>\n  </tbody>\n</table>\n</div>"
     },
     "execution_count": 190,
     "metadata": {},
     "output_type": "execute_result"
    }
   ],
   "source": [
    "df = pd.read_csv('data/lat_of_fish.csv')\n",
    "df.head()"
   ],
   "metadata": {
    "collapsed": false,
    "pycharm": {
     "name": "#%%\n"
    }
   }
  },
  {
   "cell_type": "code",
   "execution_count": 192,
   "outputs": [],
   "source": [
    "def fish_density(lat, lat_of_mackerel, lat_of_menhaden):\n",
    "    return gaussian(lat, lat_of_mackerel, np.sqrt(6))\\\n",
    "           + gaussian(lat, lat_of_menhaden, np.sqrt(6))\n",
    "array = fish_density(np.linspace(40, 60), 50, 53)"
   ],
   "metadata": {
    "collapsed": false,
    "pycharm": {
     "name": "#%%\n"
    }
   }
  },
  {
   "cell_type": "code",
   "execution_count": 193,
   "outputs": [],
   "source": [
    "def best_reward(start_lat, move_time, lat_of_mackerel, lat_of_menhaden):\n",
    "    if start_lat <= np.mean([lat_of_mackerel, lat_of_menhaden]):\n",
    "        return 1/week * (8*week-move_time) * fish_density(start_lat+0.2*move_time, lat_of_mackerel, lat_of_menhaden)\n",
    "    if start_lat > np.mean([lat_of_mackerel, lat_of_menhaden]):\n",
    "        return 1/week * (8*week-move_time) * fish_density(start_lat+0.2*move_time, lat_of_mackerel, lat_of_menhaden)"
   ],
   "metadata": {
    "collapsed": false,
    "pycharm": {
     "name": "#%%\n"
    }
   }
  },
  {
   "cell_type": "code",
   "execution_count": 194,
   "outputs": [],
   "source": [
    "def best_reward_total(start_lat, move_time, sample=50):\n",
    "    sum = 0\n",
    "    df_sample = df.sample(sample, random_state=0)\n",
    "    for index, row in df_sample.iterrows():\n",
    "        sum += best_reward(start_lat, move_time, row['lat_of_mackerel'], row['lat_of_menhaden'])\n",
    "    sum /= sample\n",
    "    sum *= len(df)\n",
    "    return sum"
   ],
   "metadata": {
    "collapsed": false,
    "pycharm": {
     "name": "#%%\n"
    }
   }
  },
  {
   "cell_type": "code",
   "execution_count": 82,
   "outputs": [],
   "source": [
    "from sko.SA import SA\n",
    "from plotnine import *"
   ],
   "metadata": {
    "collapsed": false,
    "pycharm": {
     "name": "#%%\n"
    }
   }
  },
  {
   "cell_type": "code",
   "execution_count": 213,
   "outputs": [],
   "source": [
    "def best_reward_for_sa(x):\n",
    "    if x[1] < 0 or x[1] > 36 or x[0] < 50 or x[0] > 62:\n",
    "        return np.Inf\n",
    "    # x[0] 表示纬度, x[1] 表示移动时间\n",
    "    return -best_reward_total(x[0], x[1], sample=10)\n",
    "\n",
    "week = 1\n",
    "x_history_list, y_history_list = [], []\n",
    "x_result_list, y_result_list = [], []\n",
    "for i in range(6):\n",
    "    sa = SA(func=best_reward_for_sa, x0=[53, 10], T_max=1, T_min=1e-9, L=300, max_stay_counter=150)\n",
    "    x_result, y_result = sa.run()\n",
    "    x_history_list.append(sa.best_x_history)\n",
    "    y_history_list.append(sa.best_y_history)\n",
    "    x_result_list.append(x_result)\n",
    "    y_result_list.append(y_result)"
   ],
   "metadata": {
    "collapsed": false,
    "pycharm": {
     "name": "#%%\n"
    }
   }
  },
  {
   "cell_type": "code",
   "execution_count": 225,
   "outputs": [
    {
     "data": {
      "text/plain": "array([1.00000000e+01, 1.18668361e+00, 2.33096051e-01, 2.73893100e-01,\n       2.73893100e-01, 2.73893100e-01, 2.73893100e-01, 1.37545030e-01,\n       1.37545030e-01, 1.37545030e-01, 1.37545030e-01, 4.35600299e-02,\n       4.35600299e-02, 4.35600299e-02, 2.35878793e-02, 2.35878793e-02,\n       1.70323250e-02, 1.70323250e-02, 1.62078395e-02, 1.80245776e-03,\n       7.65574512e-04, 2.12195501e-04, 2.12195501e-04, 2.12195501e-04,\n       1.70479886e-04, 1.70479886e-04, 1.10009202e-04, 7.63459413e-05,\n       6.85073073e-06, 4.37542922e-05, 4.37542922e-05, 4.37542922e-05,\n       4.37542922e-05, 7.24382758e-06, 8.44238847e-06, 8.44238847e-06,\n       6.73513952e-06, 4.07723780e-06, 2.34461258e-06, 1.37606078e-06,\n       1.37606078e-06, 8.69547931e-07, 8.69547931e-07, 6.35735751e-07,\n       6.35735751e-07, 6.35735751e-07, 1.07301940e-07, 4.96072868e-08,\n       5.46164795e-08, 5.46164795e-08, 1.69037367e-08, 1.69037367e-08,\n       1.69037367e-08, 1.69037367e-08, 1.69037367e-08, 1.15803927e-08,\n       1.15803927e-08, 5.75755660e-09])"
     },
     "execution_count": 225,
     "metadata": {},
     "output_type": "execute_result"
    }
   ],
   "source": [
    "np.array(y_history_list[1])"
   ],
   "metadata": {
    "collapsed": false,
    "pycharm": {
     "name": "#%%\n"
    }
   }
  },
  {
   "cell_type": "code",
   "execution_count": 238,
   "outputs": [
    {
     "data": {
      "text/plain": "            x             t       reward  time\n1   53.041044  1.223879e+00  1092.855776     0\n2   53.041044  1.223879e+00  1155.082418     0\n3   54.094154  3.120265e-01  1235.736650     0\n4   53.556634  4.514678e-02  1235.736650     0\n5   53.556634  4.514678e-02  1235.736650     0\n..        ...           ...          ...   ...\n53  52.511669  5.711937e-10  1283.571802     5\n54  52.511669  5.711937e-10  1283.571802     5\n55  52.511669  5.711937e-10  1283.571802     5\n56  52.511669  5.711937e-10  1283.571802     5\n57  52.511926  1.414874e-08  1283.571803     5\n\n[342 rows x 4 columns]",
      "text/html": "<div>\n<style scoped>\n    .dataframe tbody tr th:only-of-type {\n        vertical-align: middle;\n    }\n\n    .dataframe tbody tr th {\n        vertical-align: top;\n    }\n\n    .dataframe thead th {\n        text-align: right;\n    }\n</style>\n<table border=\"1\" class=\"dataframe\">\n  <thead>\n    <tr style=\"text-align: right;\">\n      <th></th>\n      <th>x</th>\n      <th>t</th>\n      <th>reward</th>\n      <th>time</th>\n    </tr>\n  </thead>\n  <tbody>\n    <tr>\n      <th>1</th>\n      <td>53.041044</td>\n      <td>1.223879e+00</td>\n      <td>1092.855776</td>\n      <td>0</td>\n    </tr>\n    <tr>\n      <th>2</th>\n      <td>53.041044</td>\n      <td>1.223879e+00</td>\n      <td>1155.082418</td>\n      <td>0</td>\n    </tr>\n    <tr>\n      <th>3</th>\n      <td>54.094154</td>\n      <td>3.120265e-01</td>\n      <td>1235.736650</td>\n      <td>0</td>\n    </tr>\n    <tr>\n      <th>4</th>\n      <td>53.556634</td>\n      <td>4.514678e-02</td>\n      <td>1235.736650</td>\n      <td>0</td>\n    </tr>\n    <tr>\n      <th>5</th>\n      <td>53.556634</td>\n      <td>4.514678e-02</td>\n      <td>1235.736650</td>\n      <td>0</td>\n    </tr>\n    <tr>\n      <th>...</th>\n      <td>...</td>\n      <td>...</td>\n      <td>...</td>\n      <td>...</td>\n    </tr>\n    <tr>\n      <th>53</th>\n      <td>52.511669</td>\n      <td>5.711937e-10</td>\n      <td>1283.571802</td>\n      <td>5</td>\n    </tr>\n    <tr>\n      <th>54</th>\n      <td>52.511669</td>\n      <td>5.711937e-10</td>\n      <td>1283.571802</td>\n      <td>5</td>\n    </tr>\n    <tr>\n      <th>55</th>\n      <td>52.511669</td>\n      <td>5.711937e-10</td>\n      <td>1283.571802</td>\n      <td>5</td>\n    </tr>\n    <tr>\n      <th>56</th>\n      <td>52.511669</td>\n      <td>5.711937e-10</td>\n      <td>1283.571802</td>\n      <td>5</td>\n    </tr>\n    <tr>\n      <th>57</th>\n      <td>52.511926</td>\n      <td>1.414874e-08</td>\n      <td>1283.571803</td>\n      <td>5</td>\n    </tr>\n  </tbody>\n</table>\n<p>342 rows × 4 columns</p>\n</div>"
     },
     "execution_count": 238,
     "metadata": {},
     "output_type": "execute_result"
    }
   ],
   "source": [
    "df_list = []\n",
    "for i in range(6):\n",
    "    df_temp = pd.DataFrame({\n",
    "        'x': np.array(x_history_list[i])[:,0],\n",
    "        't': np.array(x_history_list[i])[:,1],\n",
    "        'reward': -np.array(y_history_list[1]),\n",
    "        'time': i,\n",
    "    })\n",
    "    df_list.append(df_temp)\n",
    "df_temp = pd.concat(df_list)\n",
    "df_temp = df_temp.drop(labels=0)\n",
    "df_temp"
   ],
   "metadata": {
    "collapsed": false,
    "pycharm": {
     "name": "#%%\n"
    }
   }
  },
  {
   "cell_type": "code",
   "execution_count": 240,
   "outputs": [
    {
     "name": "stderr",
     "output_type": "stream",
     "text": [
      "c:\\environment\\python3.8.5\\lib\\site-packages\\plotnine\\ggplot.py:727: PlotnineWarning: Saving 6.4 x 4.8 in image.\n",
      "c:\\environment\\python3.8.5\\lib\\site-packages\\plotnine\\ggplot.py:730: PlotnineWarning: Filename: img/fish/iterative process of simulated annealing algorithm.png\n"
     ]
    }
   ],
   "source": [
    "(\n",
    "    ggplot(df_temp, aes('x', 't', color='reward'))\n",
    "    + geom_path()\n",
    "    + geom_point(aes(size='reward'))\n",
    "    + facet_wrap('time')\n",
    "    + labs(x='Start Latitude',\n",
    "           y='Voyage Time',\n",
    "           title='Iterative Process of Simulated Annealing Algorithm')\n",
    ").save('img/fish/iterative process of simulated annealing algorithm.png')"
   ],
   "metadata": {
    "collapsed": false,
    "pycharm": {
     "name": "#%%\n"
    }
   }
  },
  {
   "cell_type": "code",
   "execution_count": 40,
   "outputs": [
    {
     "name": "stderr",
     "output_type": "stream",
     "text": [
      "c:\\environment\\python3.8.5\\lib\\site-packages\\plotnine\\ggplot.py:727: PlotnineWarning: Saving 6.4 x 4.8 in image.\n",
      "c:\\environment\\python3.8.5\\lib\\site-packages\\plotnine\\ggplot.py:730: PlotnineWarning: Filename: img/fish/relation of remuneration to latitude of origin and time of voyage.png\n"
     ]
    }
   ],
   "source": [
    "array = np.concatenate([np.array(sa.best_x_history),\n",
    "                        np.array(sa.best_y_history).reshape(-1,1)], axis=1)\n",
    "df_result = pd.DataFrame(array, columns=['start_lat', 'move_time', 'reward'])\n",
    "df_result['reward'] = -df_result['reward']\n",
    "\n",
    "(\n",
    "    ggplot(df_result,aes(x='start_lat', y='move_time'))\n",
    "    + geom_point(aes(color='reward', size=1.5))\n",
    "    + geom_path(alpha=.8, color='coral')\n",
    "    + labs(x='Start Latitude',\n",
    "           y='Voyage Time',\n",
    "           title='Relation of Remuneration to Latitude of Origin and Time of Voyage')\n",
    ").save('img/fish/relation of remuneration to latitude of origin and time of voyage.png')"
   ],
   "metadata": {
    "collapsed": false,
    "pycharm": {
     "name": "#%%\n"
    }
   }
  },
  {
   "cell_type": "code",
   "execution_count": 200,
   "outputs": [
    {
     "data": {
      "text/plain": "3351873.3854918564"
     },
     "execution_count": 200,
     "metadata": {},
     "output_type": "execute_result"
    }
   ],
   "source": [
    "def best_reward_for_sa_with_lat_limit(x):\n",
    "    # x[0] 表示移动时间\n",
    "    if x[0] < 0 or x[0] > 8 * week:\n",
    "        return np.Inf\n",
    "    return -best_reward_total(50, x[0], sample=10)\n",
    "\n",
    "week = 7\n",
    "sa2 = SA(func=best_reward_for_sa_with_lat_limit, x0=[8], T_max=1, T_min=1e-9, L=300, max_stay_counter=150)\n",
    "x_result, y_result = sa2.run()\n",
    "-y_result * 3179.1"
   ],
   "metadata": {
    "collapsed": false,
    "pycharm": {
     "name": "#%%\n"
    }
   }
  },
  {
   "cell_type": "code",
   "execution_count": 42,
   "outputs": [
    {
     "name": "stderr",
     "output_type": "stream",
     "text": [
      "c:\\environment\\python3.8.5\\lib\\site-packages\\plotnine\\ggplot.py:727: PlotnineWarning: Saving 6.4 x 4.8 in image.\n",
      "c:\\environment\\python3.8.5\\lib\\site-packages\\plotnine\\ggplot.py:730: PlotnineWarning: Filename: img/fish/relationship between earnings and voyage time at latitudes 50°N.png\n"
     ]
    }
   ],
   "source": [
    "array = np.concatenate([np.array(sa2.best_x_history),\n",
    "                        np.array(sa2.best_y_history).reshape(-1,1)], axis=1)\n",
    "df_result = pd.DataFrame(array, columns=['move_time', 'reward'])\n",
    "df_result['reward'] = -df_result['reward']\n",
    "df_result = df_result.drop(labels=0)\n",
    "\n",
    "(\n",
    "    ggplot(df_result,aes(x='move_time', y='reward'))\n",
    "    + geom_point(aes(color='reward'), size=1.5)\n",
    "    + geom_path(alpha=.8, color='coral')\n",
    "    + labs(x='Voyage Time',\n",
    "           y='Reward',\n",
    "           title='Relationship between Earnings and Voyage Time at Latitudes 50°N')\n",
    ").save('img/fish/relationship between earnings and voyage time at latitudes 50°N.png')"
   ],
   "metadata": {
    "collapsed": false,
    "pycharm": {
     "name": "#%%\n"
    }
   }
  },
  {
   "cell_type": "code",
   "execution_count": 149,
   "outputs": [
    {
     "name": "stdout",
     "output_type": "stream",
     "text": [
      "1:\n",
      "0% 1% 3% 5% 6% 8% 10% 11% 13% 15% 16% \n",
      "18% 20% 21% 23% 25% 26% 28% 30% 31% 33% \n",
      "35% 36% 38% 40% 41% 43% 45% 46% 48% 50% \n",
      "51% 53% 55% 56% 58% 60% 61% 63% 65% 66% \n",
      "68% 70% 71% 73% 75% 76% 78% 80% 81% 83% \n",
      "85% 86% 88% 90% 91% 93% 95% 96% 98% \n",
      "3:\n",
      "0% 1% 3% 5% 6% 8% 10% 11% 13% 15% 16% \n",
      "18% 20% 21% 23% 25% 26% 28% 30% 31% 33% \n",
      "35% 36% 38% 40% 41% 43% 45% 46% 48% 50% \n",
      "51% 53% 55% 56% 58% 60% 61% 63% 65% 66% \n",
      "68% 70% 71% 73% 75% 76% 78% 80% 81% 83% \n",
      "85% 86% 88% 90% 91% 93% 95% 96% 98% \n",
      "5:\n",
      "0% 1% 3% 5% 6% 8% 10% 11% 13% 15% 16% \n",
      "18% 20% 21% 23% 25% 26% 28% 30% 31% 33% \n",
      "35% 36% 38% 40% 41% 43% 45% 46% 48% 50% \n",
      "51% 53% 55% 56% 58% 60% 61% 63% 65% 66% \n",
      "68% 70% 71% 73% 75% 76% 78% 80% 81% 83% \n",
      "85% 86% 88% 90% 91% 93% 95% 96% 98% \n",
      "7:\n",
      "0% 1% 3% 5% 6% 8% 10% 11% 13% 15% 16% \n",
      "18% 20% 21% 23% 25% 26% 28% 30% 31% 33% \n",
      "35% 36% 38% 40% 41% 43% 45% 46% 48% 50% \n",
      "51% 53% 55% 56% 58% 60% 61% 63% 65% 66% \n",
      "68% 70% 71% 73% 75% 76% 78% 80% 81% 83% \n",
      "85% 86% 88% 90% 91% 93% 95% 96% 98% \n"
     ]
    },
    {
     "data": {
      "text/plain": "{1: array([[ 0.        , -1.91840532],\n        [ 0.        , -1.90734859],\n        [ 0.        , -1.89888193],\n        [ 0.        , -1.88995161],\n        [ 0.        , -1.880852  ],\n        [ 0.        , -1.87165447],\n        [ 0.        , -1.86233302],\n        [ 0.        , -1.85289249],\n        [ 0.        , -1.8433353 ],\n        [ 0.        , -1.83366308],\n        [ 0.        , -1.82387776],\n        [ 0.        , -1.81398127],\n        [ 0.        , -1.80397558],\n        [ 0.        , -1.79386265],\n        [ 0.        , -1.78364449],\n        [ 0.        , -1.77332311],\n        [ 0.        , -1.76290055],\n        [ 0.        , -1.75237887],\n        [ 0.        , -1.74176017],\n        [ 0.        , -1.73104653],\n        [ 0.        , -1.72024008],\n        [ 0.        , -1.70934295],\n        [ 0.        , -1.69835731],\n        [ 0.        , -1.68728532],\n        [ 0.        , -1.67612918],\n        [ 0.        , -1.66489109],\n        [ 0.        , -1.65357326],\n        [ 0.        , -1.64217795],\n        [ 0.        , -1.63070739],\n        [ 0.        , -1.61916384],\n        [ 0.        , -1.60754959],\n        [ 0.        , -1.59586692],\n        [ 0.        , -1.58411813],\n        [ 0.        , -1.57230552],\n        [ 0.        , -1.56043142],\n        [ 0.        , -1.54849814],\n        [ 0.        , -1.53650803],\n        [ 0.        , -1.52446342],\n        [ 0.        , -1.51236667],\n        [ 0.        , -1.50022013],\n        [ 0.        , -1.48802616],\n        [ 0.        , -1.47578711],\n        [ 0.        , -1.46350537],\n        [ 0.        , -1.4511833 ],\n        [ 0.        , -1.43882327],\n        [ 0.        , -1.42642764],\n        [ 0.        , -1.41399881],\n        [ 0.        , -1.40153913],\n        [ 0.        , -1.38905098],\n        [ 0.        , -1.37653672],\n        [ 0.        , -1.36399872],\n        [ 0.        , -1.35143935],\n        [ 0.        , -1.33886095],\n        [ 0.        , -1.32626588],\n        [ 0.        , -1.31365648],\n        [ 0.        , -1.30103509],\n        [ 0.        , -1.28840403],\n        [ 0.        , -1.27576563],\n        [ 0.        , -1.26312219],\n        [ 0.        , -1.25047602]]),\n 3: array([[ 0.        , -1.91840532],\n        [ 0.        , -1.90734859],\n        [ 0.        , -1.89888193],\n        [ 0.        , -1.88995161],\n        [ 0.        , -1.880852  ],\n        [ 0.        , -1.87165447],\n        [ 0.        , -1.86233302],\n        [ 0.        , -1.85289249],\n        [ 0.        , -1.8433353 ],\n        [ 0.        , -1.83366308],\n        [ 0.        , -1.82387776],\n        [ 0.        , -1.81398127],\n        [ 0.        , -1.80397558],\n        [ 0.        , -1.79386265],\n        [ 0.        , -1.78364449],\n        [ 0.02503501, -1.77332666],\n        [ 0.12679795, -1.76299152],\n        [ 0.22830388, -1.7526729 ],\n        [ 0.32962792, -1.74237094],\n        [ 0.43072161, -1.73208578],\n        [ 0.53159222, -1.72181757],\n        [ 0.63224668, -1.71156643],\n        [ 0.73267157, -1.70133252],\n        [ 0.83290152, -1.69111598],\n        [ 0.93287916, -1.68091695],\n        [ 1.0326463 , -1.67073557],\n        [ 1.13220887, -1.660572  ],\n        [ 1.23148327, -1.65042637],\n        [ 1.33056564, -1.64029884],\n        [ 1.42941207, -1.63018956],\n        [ 1.52803113, -1.62009867],\n        [ 1.62640697, -1.61002632],\n        [ 1.72456284, -1.59997267],\n        [ 1.82249499, -1.58993787],\n        [ 1.92016409, -1.57992208],\n        [ 2.01761864, -1.56992544],\n        [ 2.11483839, -1.55994812],\n        [ 2.21180146, -1.54999026],\n        [ 2.30853147, -1.54005204],\n        [ 2.40502736, -1.5301336 ],\n        [ 2.50128012, -1.5202351 ],\n        [ 2.59727638, -1.51035671],\n        [ 2.69303641, -1.50049859],\n        [ 2.78856462, -1.4906609 ],\n        [ 2.88382561, -1.4808438 ],\n        [ 2.97884915, -1.47104745],\n        [ 3.07362674, -1.46127203],\n        [ 3.16815236, -1.4515177 ],\n        [ 3.26242485, -1.44178462],\n        [ 3.35644319, -1.43207296],\n        [ 3.45021726, -1.42238289],\n        [ 3.54371594, -1.41271458],\n        [ 3.63698939, -1.40306821],\n        [ 3.72998521, -1.39344393],\n        [ 3.82274185, -1.38384193],\n        [ 3.915241  , -1.37426237],\n        [ 4.00745206, -1.36470543],\n        [ 4.09942718, -1.35517129],\n        [ 4.19114315, -1.34566011],\n        [ 4.28258624, -1.33617209]]),\n 5: array([[ 1.39325429, -1.92787589],\n        [ 1.54751161, -1.91899241],\n        [ 1.66362006, -1.91230332],\n        [ 1.7843236 , -1.90534827],\n        [ 1.9055128 , -1.89836173],\n        [ 2.02630232, -1.89139749],\n        [ 2.14702163, -1.8844342 ],\n        [ 2.26763143, -1.87747419],\n        [ 2.3881676 , -1.87051789],\n        [ 2.50858562, -1.86356514],\n        [ 2.62890427, -1.85661601],\n        [ 2.74912067, -1.84967051],\n        [ 2.86921496, -1.84272869],\n        [ 2.98923229, -1.83579056],\n        [ 3.10913535, -1.82885616],\n        [ 3.22892996, -1.82192551],\n        [ 3.3486103 , -1.81499865],\n        [ 3.46820716, -1.80807561],\n        [ 3.58767272, -1.80115642],\n        [ 3.70702918, -1.79424111],\n        [ 3.82628744, -1.78732971],\n        [ 3.94543238, -1.78042225],\n        [ 4.06446731, -1.77351877],\n        [ 4.18338955, -1.76661929],\n        [ 4.30220119, -1.75972385],\n        [ 4.4209052 , -1.75283248],\n        [ 4.53948018, -1.74594522],\n        [ 4.65794707, -1.7390621 ],\n        [ 4.77629752, -1.73218315],\n        [ 4.89453354, -1.7253084 ],\n        [ 5.01266102, -1.7184379 ],\n        [ 5.13066298, -1.71157167],\n        [ 5.24851437, -1.70470975],\n        [ 5.3663107 , -1.69785218],\n        [ 5.48395343, -1.69099899],\n        [ 5.60147687, -1.68415021],\n        [ 5.7188826 , -1.67730589],\n        [ 5.8361608 , -1.67046606],\n        [ 5.95332094, -1.66363076],\n        [ 6.07035369, -1.65680002],\n        [ 6.18726297, -1.64997388],\n        [ 6.3040319 , -1.64315239],\n        [ 6.42071018, -1.63633557],\n        [ 6.53723275, -1.62952347],\n        [ 6.65363584, -1.62271612],\n        [ 6.76988676, -1.61591358],\n        [ 6.88605798, -1.60911586],\n        [ 7.00207103, -1.60232303],\n        [ 7.11795967, -1.59553511],\n        [ 7.233715  , -1.58875214],\n        [ 7.34934487, -1.58197418],\n        [ 7.46481689, -1.57520125],\n        [ 7.58016142, -1.56843341],\n        [ 7.69538103, -1.56167069],\n        [ 7.810475  , -1.55491314],\n        [ 7.92540527, -1.5481608 ],\n        [ 8.04019147, -1.54141372],\n        [ 8.15486298, -1.53467193],\n        [ 8.26939478, -1.52793549],\n        [ 8.38376749, -1.52120443]]),\n 7: array([[ 3.01466708, -1.95974222],\n        [ 3.17894041, -1.95316128],\n        [ 3.30264294, -1.94820441],\n        [ 3.43128119, -1.94304901],\n        [ 3.56052393, -1.93786879],\n        [ 3.68935146, -1.93270361],\n        [ 3.81820093, -1.92753762],\n        [ 3.94699243, -1.92237253],\n        [ 4.07573224, -1.91720867],\n        [ 4.20443197, -1.91204589],\n        [ 4.33306556, -1.90688423],\n        [ 4.46166374, -1.90172368],\n        [ 4.59022024, -1.89656427],\n        [ 4.71871616, -1.89140599],\n        [ 4.84715493, -1.88624885],\n        [ 4.97554736, -1.88109287],\n        [ 5.103884  , -1.87593805],\n        [ 5.23217925, -1.87078439],\n        [ 5.36041435, -1.86563191],\n        [ 5.48859458, -1.86048061],\n        [ 5.61673461, -1.8553305 ],\n        [ 5.74478751, -1.85018159],\n        [ 5.87283536, -1.84503389],\n        [ 6.00080978, -1.8398874 ],\n        [ 6.12871869, -1.83474214],\n        [ 6.25656264, -1.82959812],\n        [ 6.38441974, -1.82445533],\n        [ 6.51213419, -1.81931379],\n        [ 6.63983205, -1.81417351],\n        [ 6.76748892, -1.8090345 ],\n        [ 6.89504201, -1.80389677],\n        [ 7.02260185, -1.79876032],\n        [ 7.15007492, -1.79362516],\n        [ 7.27749104, -1.78849131],\n        [ 7.40484209, -1.78335876],\n        [ 7.53214249, -1.77822754],\n        [ 7.65938045, -1.77309765],\n        [ 7.78655076, -1.7679691 ],\n        [ 7.9136987 , -1.7628419 ],\n        [ 8.04076347, -1.75771606],\n        [ 8.1677811 , -1.75259159],\n        [ 8.29471582, -1.74746849],\n        [ 8.42157623, -1.74234678],\n        [ 8.54844163, -1.73722647],\n        [ 8.67518868, -1.73210757],\n        [ 8.80189466, -1.72699008],\n        [ 8.92854791, -1.72187402],\n        [ 9.05509779, -1.7167594 ],\n        [ 9.18161288, -1.71164623],\n        [ 9.30806929, -1.70653452],\n        [ 9.43450078, -1.70142427],\n        [ 9.56078682, -1.69631551],\n        [ 9.68703328, -1.69120823],\n        [ 9.81324008, -1.68610246],\n        [ 9.93935633, -1.6809982 ],\n        [10.06542124, -1.67589546],\n        [10.19141421, -1.67079425],\n        [10.31736705, -1.66569459],\n        [10.44323678, -1.66059649],\n        [10.5690282 , -1.65549995]])}"
     },
     "execution_count": 149,
     "metadata": {},
     "output_type": "execute_result"
    }
   ],
   "source": [
    "def best_reward_for_sa_on_lat_50(x):\n",
    "    if x[0]<0 or x[0]>8 * week:\n",
    "        return np.Inf\n",
    "    return -best_reward(50, x[0], df.loc[index]['lat_of_mackerel'],\n",
    "                        df.loc[index]['lat_of_menhaden'])\n",
    "\n",
    "result_dict = {}\n",
    "for week in [1,3,5,7]:\n",
    "    print(str(week) + ':')\n",
    "    x_result_list, y_result_list = [], []\n",
    "    for index in range(0, len(df), 10):\n",
    "        print(str(int(index/len(df)*100)) + '%', end=' ')\n",
    "        if index != 0 and index % 100 == 0:\n",
    "            print()\n",
    "        sa3 = SA(func=best_reward_for_sa_on_lat_50,\n",
    "                 x0=[0])\n",
    "        x_result, y_result = sa3.run()\n",
    "        x_result_list.append(x_result)\n",
    "        y_result_list.append(y_result)\n",
    "    result_dict[week] = np.concatenate([np.array(x_result_list), np.array(y_result_list).reshape(-1,1)], axis=1)\n",
    "    print()\n",
    "result_dict"
   ],
   "metadata": {
    "collapsed": false,
    "pycharm": {
     "name": "#%%\n"
    }
   }
  },
  {
   "cell_type": "code",
   "execution_count": 201,
   "outputs": [
    {
     "name": "stderr",
     "output_type": "stream",
     "text": [
      "c:\\environment\\python3.8.5\\lib\\site-packages\\plotnine\\ggplot.py:727: PlotnineWarning: Saving 6.4 x 4.8 in image.\n",
      "c:\\environment\\python3.8.5\\lib\\site-packages\\plotnine\\ggplot.py:730: PlotnineWarning: Filename: img/fish/the relationship between time spent at sea and income.png\n"
     ]
    }
   ],
   "source": [
    "df_temp = pd.DataFrame({\n",
    "    'reward': [2919398.51, 2958061.74, 3173207.71, 3351873.39],\n",
    "    'day': [1,3,5,7]\n",
    "})\n",
    "\n",
    "(\n",
    "    ggplot(df_temp, aes('day', 'reward', fill='reward'))\n",
    "    + geom_col()\n",
    "    + labs(x='Time at Sea, [Day]',\n",
    "           y='Reward, [Pounds]',\n",
    "           title='the Relationship between Time at Sea and Income',\n",
    "           color='Reward')\n",
    ").save('img/fish/the relationship between time spent at sea and income.png')"
   ],
   "metadata": {
    "collapsed": false,
    "pycharm": {
     "name": "#%%\n"
    }
   }
  },
  {
   "cell_type": "code",
   "execution_count": 150,
   "outputs": [
    {
     "data": {
      "text/plain": "            t        reward  day         time\n0    0.000000  73185.628347    1  2018.000000\n1    0.000000  72763.822766    1  2018.847458\n2    0.000000  72440.826528    1  2019.694915\n3    0.000000  72100.141864    1  2020.542373\n4    0.000000  71752.999175    1  2021.389831\n..        ...           ...  ...          ...\n55  10.065421  63934.071030    7  2064.610169\n56  10.191414  63739.464104    7  2065.457627\n57  10.317367  63544.916111    7  2066.305085\n58  10.443237  63350.427479    7  2067.152542\n59  10.569028  63155.998638    7  2068.000000\n\n[240 rows x 4 columns]",
      "text/html": "<div>\n<style scoped>\n    .dataframe tbody tr th:only-of-type {\n        vertical-align: middle;\n    }\n\n    .dataframe tbody tr th {\n        vertical-align: top;\n    }\n\n    .dataframe thead th {\n        text-align: right;\n    }\n</style>\n<table border=\"1\" class=\"dataframe\">\n  <thead>\n    <tr style=\"text-align: right;\">\n      <th></th>\n      <th>t</th>\n      <th>reward</th>\n      <th>day</th>\n      <th>time</th>\n    </tr>\n  </thead>\n  <tbody>\n    <tr>\n      <th>0</th>\n      <td>0.000000</td>\n      <td>73185.628347</td>\n      <td>1</td>\n      <td>2018.000000</td>\n    </tr>\n    <tr>\n      <th>1</th>\n      <td>0.000000</td>\n      <td>72763.822766</td>\n      <td>1</td>\n      <td>2018.847458</td>\n    </tr>\n    <tr>\n      <th>2</th>\n      <td>0.000000</td>\n      <td>72440.826528</td>\n      <td>1</td>\n      <td>2019.694915</td>\n    </tr>\n    <tr>\n      <th>3</th>\n      <td>0.000000</td>\n      <td>72100.141864</td>\n      <td>1</td>\n      <td>2020.542373</td>\n    </tr>\n    <tr>\n      <th>4</th>\n      <td>0.000000</td>\n      <td>71752.999175</td>\n      <td>1</td>\n      <td>2021.389831</td>\n    </tr>\n    <tr>\n      <th>...</th>\n      <td>...</td>\n      <td>...</td>\n      <td>...</td>\n      <td>...</td>\n    </tr>\n    <tr>\n      <th>55</th>\n      <td>10.065421</td>\n      <td>63934.071030</td>\n      <td>7</td>\n      <td>2064.610169</td>\n    </tr>\n    <tr>\n      <th>56</th>\n      <td>10.191414</td>\n      <td>63739.464104</td>\n      <td>7</td>\n      <td>2065.457627</td>\n    </tr>\n    <tr>\n      <th>57</th>\n      <td>10.317367</td>\n      <td>63544.916111</td>\n      <td>7</td>\n      <td>2066.305085</td>\n    </tr>\n    <tr>\n      <th>58</th>\n      <td>10.443237</td>\n      <td>63350.427479</td>\n      <td>7</td>\n      <td>2067.152542</td>\n    </tr>\n    <tr>\n      <th>59</th>\n      <td>10.569028</td>\n      <td>63155.998638</td>\n      <td>7</td>\n      <td>2068.000000</td>\n    </tr>\n  </tbody>\n</table>\n<p>240 rows × 4 columns</p>\n</div>"
     },
     "execution_count": 150,
     "metadata": {},
     "output_type": "execute_result"
    }
   ],
   "source": [
    "df_list = []\n",
    "\n",
    "for result in result_dict:\n",
    "    df_temp = pd.DataFrame({\n",
    "        't': result_dict[result][:,0],\n",
    "        'reward': -result_dict[result][:,1] * 3179.1 * 12,\n",
    "        'day': result,\n",
    "        'time': np.linspace(2018, 2068, len(result_dict[result]))\n",
    "    })\n",
    "    df_list.append(df_temp)\n",
    "\n",
    "df_temp = pd.concat(df_list)\n",
    "df_temp"
   ],
   "metadata": {
    "collapsed": false,
    "pycharm": {
     "name": "#%%\n"
    }
   }
  },
  {
   "cell_type": "code",
   "execution_count": 176,
   "outputs": [
    {
     "name": "stderr",
     "output_type": "stream",
     "text": [
      "c:\\environment\\python3.8.5\\lib\\site-packages\\plotnine\\ggplot.py:727: PlotnineWarning: Saving 6.4 x 4.8 in image.\n",
      "c:\\environment\\python3.8.5\\lib\\site-packages\\plotnine\\ggplot.py:730: PlotnineWarning: Filename: img/fish/relationship between average annual income of fishermen and time at sea.png\n"
     ]
    }
   ],
   "source": [
    "(\n",
    "    ggplot(df_temp, aes(color='factor(day)', group='day'))\n",
    "    + geom_line(aes('time','reward'))\n",
    "    + geom_hline(aes(yintercept=60700), linetype='--')\n",
    "    + labs(x='Year',\n",
    "           y='Reward, [Pounds]',\n",
    "           title='Relationship between Average Annual Income of Fishermen and Time at Sea',\n",
    "           color='Time at Sea, [Day]')\n",
    ").save('img/fish/relationship between average annual income of fishermen and time at sea.png')"
   ],
   "metadata": {
    "collapsed": false,
    "pycharm": {
     "name": "#%%\n"
    }
   }
  },
  {
   "cell_type": "code",
   "execution_count": 175,
   "outputs": [
    {
     "name": "stderr",
     "output_type": "stream",
     "text": [
      "c:\\environment\\python3.8.5\\lib\\site-packages\\plotnine\\ggplot.py:727: PlotnineWarning: Saving 6.4 x 4.8 in image.\n",
      "c:\\environment\\python3.8.5\\lib\\site-packages\\plotnine\\ggplot.py:730: PlotnineWarning: Filename: img/fish/the relationship between time of voyage and time at sea.png\n"
     ]
    }
   ],
   "source": [
    "(\n",
    "    ggplot(df_temp, aes(color='factor(day)', group='day'))\n",
    "    + geom_line(aes('time','t'))\n",
    "    + labs(x='Year',\n",
    "           y='Voyage Time',\n",
    "           title='the Relationship between Time of Voyage and Time at Sea',\n",
    "           color='Time at Sea, [Day]')\n",
    ").save('img/fish/the relationship between time of voyage and time at sea.png')\n"
   ],
   "metadata": {
    "collapsed": false,
    "pycharm": {
     "name": "#%%\n"
    }
   }
  }
 ],
 "metadata": {
  "kernelspec": {
   "display_name": "Python 3",
   "language": "python",
   "name": "python3"
  },
  "language_info": {
   "codemirror_mode": {
    "name": "ipython",
    "version": 2
   },
   "file_extension": ".py",
   "mimetype": "text/x-python",
   "name": "python",
   "nbconvert_exporter": "python",
   "pygments_lexer": "ipython2",
   "version": "2.7.6"
  }
 },
 "nbformat": 4,
 "nbformat_minor": 0
}