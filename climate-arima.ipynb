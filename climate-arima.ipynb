{
 "cells": [
  {
   "cell_type": "code",
   "execution_count": 2,
   "metadata": {
    "collapsed": true
   },
   "outputs": [],
   "source": [
    "import numpy as np\n",
    "import pandas as pd\n",
    "from plotnine import *"
   ]
  },
  {
   "cell_type": "code",
   "execution_count": 155,
   "outputs": [
    {
     "data": {
      "text/plain": "array([7.954714 , 8.199177 , 7.6553307, ..., 7.7854586, 7.357517 ,\n       6.598882 ])"
     },
     "execution_count": 155,
     "metadata": {},
     "output_type": "execute_result"
    }
   ],
   "source": [
    "df = pd.read_csv('data/sst_of_scotland.csv')\n",
    "array = np.array(df['sst'])\n",
    "array"
   ],
   "metadata": {
    "collapsed": false,
    "pycharm": {
     "name": "#%%\n"
    }
   }
  },
  {
   "cell_type": "code",
   "execution_count": 156,
   "outputs": [],
   "source": [
    "from statsmodels.tsa.seasonal import seasonal_decompose, STL\n",
    "\n",
    "# result = seasonal_decompose(df['sst'], model='additive', freq=12)\n",
    "result = STL(array, period=12).fit()\n",
    "df = pd.DataFrame({\n",
    "    'trend': result.trend,\n",
    "    'seasonal': result.seasonal,\n",
    "    'resid': result.resid,\n",
    "})\n",
    "\n",
    "time_list = np.linspace(1854, 2018, len(df))\n",
    "df = pd.concat([df, pd.DataFrame(time_list, columns=['time'])], axis=1)\n",
    "df.to_csv('data/sst_after_decomposed.csv', index=None)"
   ],
   "metadata": {
    "collapsed": false,
    "pycharm": {
     "name": "#%%\n"
    }
   }
  },
  {
   "cell_type": "code",
   "execution_count": 157,
   "outputs": [
    {
     "name": "stderr",
     "output_type": "stream",
     "text": [
      "<ipython-input-157-575cfa19cc1b>:6: SettingWithCopyWarning: \n",
      "A value is trying to be set on a copy of a slice from a DataFrame.\n",
      "Try using .loc[row_indexer,col_indexer] = value instead\n",
      "\n",
      "See the caveats in the documentation: https://pandas.pydata.org/pandas-docs/stable/user_guide/indexing.html#returning-a-view-versus-a-copy\n",
      "<ipython-input-157-575cfa19cc1b>:6: SettingWithCopyWarning: \n",
      "A value is trying to be set on a copy of a slice from a DataFrame.\n",
      "Try using .loc[row_indexer,col_indexer] = value instead\n",
      "\n",
      "See the caveats in the documentation: https://pandas.pydata.org/pandas-docs/stable/user_guide/indexing.html#returning-a-view-versus-a-copy\n",
      "<ipython-input-157-575cfa19cc1b>:6: SettingWithCopyWarning: \n",
      "A value is trying to be set on a copy of a slice from a DataFrame.\n",
      "Try using .loc[row_indexer,col_indexer] = value instead\n",
      "\n",
      "See the caveats in the documentation: https://pandas.pydata.org/pandas-docs/stable/user_guide/indexing.html#returning-a-view-versus-a-copy\n",
      "<ipython-input-157-575cfa19cc1b>:6: SettingWithCopyWarning: \n",
      "A value is trying to be set on a copy of a slice from a DataFrame.\n",
      "Try using .loc[row_indexer,col_indexer] = value instead\n",
      "\n",
      "See the caveats in the documentation: https://pandas.pydata.org/pandas-docs/stable/user_guide/indexing.html#returning-a-view-versus-a-copy\n",
      "c:\\environment\\python3.8.5\\lib\\site-packages\\plotnine\\ggplot.py:727: PlotnineWarning: Saving 6.4 x 4.8 in image.\n",
      "c:\\environment\\python3.8.5\\lib\\site-packages\\plotnine\\ggplot.py:730: PlotnineWarning: Filename: img/sst/decomposed sst changes in scotland.png\n",
      "c:\\environment\\python3.8.5\\lib\\site-packages\\plotnine\\facets\\facet.py:549: PlotnineWarning: If you need more space for the x-axis tick text use ... + theme(subplots_adjust={'wspace': 0.25}). Choose an appropriate value for 'wspace'.\n",
      "c:\\environment\\python3.8.5\\lib\\site-packages\\plotnine\\facets\\facet.py:555: PlotnineWarning: If you need more space for the y-axis tick text use ... + theme(subplots_adjust={'hspace': 0.25}). Choose an appropriate value for 'hspace'\n"
     ]
    }
   ],
   "source": [
    "df_list = []\n",
    "\n",
    "begin_time_list = [1900, 1960, 1998, 2013]\n",
    "for begin_time in begin_time_list:\n",
    "    df_temp = df[df['time']>begin_time]\n",
    "    df_temp['begin_time'] = begin_time\n",
    "    df_list.append(df_temp)\n",
    "\n",
    "df2 = pd.concat(df_list)\n",
    "\n",
    "\n",
    "(\n",
    "    ggplot(df2)\n",
    "    + geom_line(aes('time','trend', color='trend'),\n",
    "                show_legend=False)\n",
    "    + geom_line(aes('time','seasonal', color='seasonal'),\n",
    "                show_legend=False)\n",
    "    + geom_point(aes('time','resid', color='resid'),\n",
    "                 size=.5,\n",
    "                 show_legend=False)\n",
    "    + facet_wrap('begin_time', scales='free')\n",
    "    + labs(x='Year',\n",
    "           y='',\n",
    "           title='Decomposed SST Changes in Scotland',\n",
    "           color='')\n",
    ").save('img/sst/decomposed sst changes in scotland.png')"
   ],
   "metadata": {
    "collapsed": false,
    "pycharm": {
     "name": "#%%\n"
    }
   }
  },
  {
   "cell_type": "code",
   "execution_count": 158,
   "outputs": [
    {
     "name": "stderr",
     "output_type": "stream",
     "text": [
      "c:\\environment\\python3.8.5\\lib\\site-packages\\plotnine\\ggplot.py:727: PlotnineWarning: Saving 6.4 x 4.8 in image.\n",
      "c:\\environment\\python3.8.5\\lib\\site-packages\\plotnine\\ggplot.py:730: PlotnineWarning: Filename: img/sst/trend series of sst changes in scotland.png\n"
     ]
    }
   ],
   "source": [
    "(\n",
    "    ggplot(df[df['time']>=1900], aes('time','trend', color='trend'))\n",
    "    + geom_line()\n",
    "    + geom_vline(aes(xintercept=1932.6), color='red', size=2)\n",
    "    + geom_vline(aes(xintercept=1979.5), color='blue', size=2)\n",
    "    + geom_vline(aes(xintercept=1999.7), color='red', size=2)\n",
    "    + geom_segment(x=1900, y=6.1, xend=1930, yend=5.7,\n",
    "                   color='blue', size=.1,\n",
    "                   arrow=arrow())\n",
    "    + geom_segment(x=1936, y=5.7, xend=1975, yend=6.6,\n",
    "                   color='red', size=.1,\n",
    "                   arrow=arrow())\n",
    "    + geom_segment(x=1982, y=6.6, xend=1997, yend=5.9,\n",
    "                   color='blue', size=.1,\n",
    "                   arrow=arrow())\n",
    "    + geom_segment(x=2002, y=5.9, xend=2018, yend=6.7,\n",
    "                   color='red', size=.1,\n",
    "                   arrow=arrow())\n",
    "    + labs(x='Year',\n",
    "           y='Trend of SST',\n",
    "           title='Trend Series of SST Changes in Scotland',\n",
    "           color='Trend of SST')\n",
    ").save('img/sst/trend series of sst changes in scotland.png')"
   ],
   "metadata": {
    "collapsed": false,
    "pycharm": {
     "name": "#%%\n"
    }
   }
  },
  {
   "cell_type": "code",
   "execution_count": 159,
   "outputs": [
    {
     "name": "stderr",
     "output_type": "stream",
     "text": [
      "<ipython-input-159-2d038468fbfe>:2: SettingWithCopyWarning: \n",
      "A value is trying to be set on a copy of a slice from a DataFrame.\n",
      "Try using .loc[row_indexer,col_indexer] = value instead\n",
      "\n",
      "See the caveats in the documentation: https://pandas.pydata.org/pandas-docs/stable/user_guide/indexing.html#returning-a-view-versus-a-copy\n"
     ]
    }
   ],
   "source": [
    "df_after_1999 = df[df['time']>=1999]\n",
    "df_after_1999['diff'] = 0\n",
    "df_list = [df_after_1999]\n",
    "for i in range(5):\n",
    "    df_temp = df_list[-1].copy()\n",
    "    df_temp['trend'] = df_temp['trend'].diff()\n",
    "    df_temp['diff'] = i + 1\n",
    "    df_list.append(df_temp)"
   ],
   "metadata": {
    "collapsed": false,
    "pycharm": {
     "name": "#%%\n"
    }
   }
  },
  {
   "cell_type": "code",
   "execution_count": 160,
   "outputs": [
    {
     "data": {
      "text/plain": "         trend  seasonal     resid         time  diff\n1744  5.882668 -0.148617 -0.130974  1999.038540     0\n1745  5.879278 -0.699477 -0.114249  1999.121704     0\n1746  5.872023 -0.922982  0.024616  1999.204868     0\n1747  5.862037 -1.194117  0.061089  1999.288032     0\n1748  5.850895 -1.116883 -0.057645  1999.371197     0\n...        ...       ...       ...          ...   ...\n1968 -0.000117  1.460959 -0.181374  2017.667343     5\n1969 -0.000031  1.842102 -0.178426  2017.750507     5\n1970 -0.000037  1.406731 -0.019582  2017.833671     5\n1971 -0.000043  0.733769  0.226391  2017.916836     5\n1972 -0.000104 -0.070427  0.271703  2018.000000     5\n\n[1374 rows x 5 columns]",
      "text/html": "<div>\n<style scoped>\n    .dataframe tbody tr th:only-of-type {\n        vertical-align: middle;\n    }\n\n    .dataframe tbody tr th {\n        vertical-align: top;\n    }\n\n    .dataframe thead th {\n        text-align: right;\n    }\n</style>\n<table border=\"1\" class=\"dataframe\">\n  <thead>\n    <tr style=\"text-align: right;\">\n      <th></th>\n      <th>trend</th>\n      <th>seasonal</th>\n      <th>resid</th>\n      <th>time</th>\n      <th>diff</th>\n    </tr>\n  </thead>\n  <tbody>\n    <tr>\n      <th>1744</th>\n      <td>5.882668</td>\n      <td>-0.148617</td>\n      <td>-0.130974</td>\n      <td>1999.038540</td>\n      <td>0</td>\n    </tr>\n    <tr>\n      <th>1745</th>\n      <td>5.879278</td>\n      <td>-0.699477</td>\n      <td>-0.114249</td>\n      <td>1999.121704</td>\n      <td>0</td>\n    </tr>\n    <tr>\n      <th>1746</th>\n      <td>5.872023</td>\n      <td>-0.922982</td>\n      <td>0.024616</td>\n      <td>1999.204868</td>\n      <td>0</td>\n    </tr>\n    <tr>\n      <th>1747</th>\n      <td>5.862037</td>\n      <td>-1.194117</td>\n      <td>0.061089</td>\n      <td>1999.288032</td>\n      <td>0</td>\n    </tr>\n    <tr>\n      <th>1748</th>\n      <td>5.850895</td>\n      <td>-1.116883</td>\n      <td>-0.057645</td>\n      <td>1999.371197</td>\n      <td>0</td>\n    </tr>\n    <tr>\n      <th>...</th>\n      <td>...</td>\n      <td>...</td>\n      <td>...</td>\n      <td>...</td>\n      <td>...</td>\n    </tr>\n    <tr>\n      <th>1968</th>\n      <td>-0.000117</td>\n      <td>1.460959</td>\n      <td>-0.181374</td>\n      <td>2017.667343</td>\n      <td>5</td>\n    </tr>\n    <tr>\n      <th>1969</th>\n      <td>-0.000031</td>\n      <td>1.842102</td>\n      <td>-0.178426</td>\n      <td>2017.750507</td>\n      <td>5</td>\n    </tr>\n    <tr>\n      <th>1970</th>\n      <td>-0.000037</td>\n      <td>1.406731</td>\n      <td>-0.019582</td>\n      <td>2017.833671</td>\n      <td>5</td>\n    </tr>\n    <tr>\n      <th>1971</th>\n      <td>-0.000043</td>\n      <td>0.733769</td>\n      <td>0.226391</td>\n      <td>2017.916836</td>\n      <td>5</td>\n    </tr>\n    <tr>\n      <th>1972</th>\n      <td>-0.000104</td>\n      <td>-0.070427</td>\n      <td>0.271703</td>\n      <td>2018.000000</td>\n      <td>5</td>\n    </tr>\n  </tbody>\n</table>\n<p>1374 rows × 5 columns</p>\n</div>"
     },
     "execution_count": 160,
     "metadata": {},
     "output_type": "execute_result"
    }
   ],
   "source": [
    "df_temp = pd.concat(df_list)\n",
    "df_temp"
   ],
   "metadata": {
    "collapsed": false,
    "pycharm": {
     "name": "#%%\n"
    }
   }
  },
  {
   "cell_type": "code",
   "execution_count": 161,
   "outputs": [
    {
     "data": {
      "text/plain": "[0.04099963664215694,\n 0.0004600730162189924,\n 2.112886720630772e-05,\n 4.110007096544802e-06,\n 2.9149267711679735e-06,\n 5.2963089093346e-06]"
     },
     "execution_count": 161,
     "metadata": {},
     "output_type": "execute_result"
    }
   ],
   "source": [
    "var_list = []\n",
    "for df in df_list:\n",
    "    var_list.append(np.var(df['trend']))\n",
    "var_list"
   ],
   "metadata": {
    "collapsed": false,
    "pycharm": {
     "name": "#%%\n"
    }
   }
  },
  {
   "cell_type": "code",
   "execution_count": 162,
   "outputs": [
    {
     "name": "stderr",
     "output_type": "stream",
     "text": [
      "c:\\environment\\python3.8.5\\lib\\site-packages\\plotnine\\ggplot.py:727: PlotnineWarning: Saving 6.4 x 4.8 in image.\n",
      "c:\\environment\\python3.8.5\\lib\\site-packages\\plotnine\\ggplot.py:730: PlotnineWarning: Filename: img/sst/trend under diff.png\n",
      "c:\\environment\\python3.8.5\\lib\\site-packages\\plotnine\\facets\\facet.py:555: PlotnineWarning: If you need more space for the y-axis tick text use ... + theme(subplots_adjust={'hspace': 0.25}). Choose an appropriate value for 'hspace'\n"
     ]
    }
   ],
   "source": [
    "(\n",
    "    ggplot()\n",
    "    + geom_line(df_temp, aes('time', 'trend', color='trend'),\n",
    "                show_legend=False)\n",
    "    + facet_wrap('diff', scales='free', ncol=1)\n",
    "    + labs(x='Year', y='Trend of SST', color='',\n",
    "           title='Trend Variation of SST under Different Differences')\n",
    ").save('img/sst/trend under diff.png')"
   ],
   "metadata": {
    "collapsed": false,
    "pycharm": {
     "name": "#%%\n"
    }
   }
  },
  {
   "cell_type": "code",
   "execution_count": 170,
   "outputs": [
    {
     "data": {
      "text/plain": "<Figure size 432x288 with 2 Axes>",
      "image/png": "[encoded data removed]"
     },
     "metadata": {
      "needs_background": "light"
     },
     "output_type": "display_data"
    }
   ],
   "source": [
    "from statsmodels.tsa.arima_model import ARIMA\n",
    "from statsmodels.graphics.tsaplots import plot_acf, plot_pacf\n",
    "import matplotlib.pyplot as plt\n",
    "\n",
    "df_temp = pd.read_csv('data/sst_after_decomposed.csv')\n",
    "df_temp = df_temp[df_temp['time']>=1999]\n",
    "trend_series = df_temp['trend']\n",
    "trend_series_diff = trend_series.diff(1)\n",
    "trend_series_diff = trend_series_diff.diff(1)\n",
    "trend_series_diff = trend_series_diff.dropna()\n",
    "trend_series_diff = np.array(trend_series_diff)\n",
    "\n",
    "fig = plt.figure()\n",
    "ax1 = fig.add_subplot(211)\n",
    "ax2 = fig.add_subplot(212)\n",
    "\n",
    "plot_acf(trend_series_diff, ax=ax1)\n",
    "plot_pacf(trend_series_diff, ax=ax2)\n",
    "plt.tight_layout()\n",
    "plt.savefig('img/arima/acf and pacf of trend.png')"
   ],
   "metadata": {
    "collapsed": false,
    "pycharm": {
     "name": "#%%\n"
    }
   }
  },
  {
   "cell_type": "code",
   "execution_count": 192,
   "outputs": [
    {
     "data": {
      "text/plain": "1744    5.882668\n1745    5.879278\n1746    5.872023\n1747    5.862037\n1748    5.850895\n          ...   \n1968    6.402800\n1969    6.400219\n1970    6.398309\n1971    6.397357\n1972    6.397606\nName: trend, Length: 229, dtype: float64"
     },
     "execution_count": 192,
     "metadata": {},
     "output_type": "execute_result"
    }
   ],
   "source": [
    "trend_series"
   ],
   "metadata": {
    "collapsed": false,
    "pycharm": {
     "name": "#%%\n"
    }
   }
  },
  {
   "cell_type": "code",
   "execution_count": 193,
   "outputs": [
    {
     "name": "stderr",
     "output_type": "stream",
     "text": [
      "c:\\environment\\python3.8.5\\lib\\site-packages\\statsmodels\\tsa\\base\\tsa_model.py:578: ValueWarning: An unsupported index was provided and will be ignored when e.g. forecasting.\n",
      "c:\\environment\\python3.8.5\\lib\\site-packages\\statsmodels\\tsa\\base\\tsa_model.py:578: ValueWarning: An unsupported index was provided and will be ignored when e.g. forecasting.\n"
     ]
    },
    {
     "data": {
      "text/plain": "<class 'statsmodels.iolib.summary2.Summary'>\n\"\"\"\n                           Results: ARIMA\n====================================================================\nModel:              ARIMA            BIC:                 -2330.8538\nDependent Variable: D2.trend         Log-Likelihood:      1176.3    \nDate:               2021-01-29 12:14 Scale:               1.0000    \nNo. Observations:   227              Method:              css-mle   \nDf Model:           3                Sample:              2         \nDf Residuals:       224                                   9         \nConverged:          1.0000           S.D. of innovations: 0.001     \nNo. Iterations:     17.0000          HQIC:                -2339.026 \nAIC:                -2344.5536                                      \n---------------------------------------------------------------------\n                 Coef.   Std.Err.     t      P>|t|    [0.025   0.975]\n---------------------------------------------------------------------\nconst           -0.0000    0.0005   -0.0157  0.9875  -0.0011   0.0010\nar.L1.D2.trend   1.5576    0.0449   34.6845  0.0000   1.4696   1.6457\nar.L2.D2.trend  -0.7252    0.0448  -16.1743  0.0000  -0.8131  -0.6373\n-----------------------------------------------------------------------------\n                 Real           Imaginary          Modulus          Frequency\n-----------------------------------------------------------------------------\nAR.1            1.0740            -0.4749           1.1743            -0.0663\nAR.2            1.0740             0.4749           1.1743             0.0663\n====================================================================\n\n\"\"\"",
      "text/html": "<table class=\"simpletable\">\n<tr>\n        <td>Model:</td>              <td>ARIMA</td>              <td>BIC:</td>         <td>-2330.8538</td>\n</tr>\n<tr>\n  <td>Dependent Variable:</td>     <td>D2.trend</td>        <td>Log-Likelihood:</td>     <td>1176.3</td>  \n</tr>\n<tr>\n         <td>Date:</td>        <td>2021-01-29 12:14</td>        <td>Scale:</td>          <td>1.0000</td>  \n</tr>\n<tr>\n   <td>No. Observations:</td>         <td>227</td>              <td>Method:</td>         <td>css-mle</td> \n</tr>\n<tr>\n       <td>Df Model:</td>              <td>3</td>               <td>Sample:</td>            <td>2</td>    \n</tr>\n<tr>\n     <td>Df Residuals:</td>           <td>224</td>                 <td></td>                <td>9</td>    \n</tr>\n<tr>\n      <td>Converged:</td>           <td>1.0000</td>      <td>S.D. of innovations:</td>    <td>0.001</td>  \n</tr>\n<tr>\n    <td>No. Iterations:</td>        <td>17.0000</td>             <td>HQIC:</td>         <td>-2339.026</td>\n</tr>\n<tr>\n         <td>AIC:</td>            <td>-2344.5536</td>              <td></td>                <td></td>     \n</tr>\n</table>\n<table class=\"simpletable\">\n<tr>\n         <td></td>         <th>Coef.</th>  <th>Std.Err.</th>     <th>t</th>     <th>P>|t|</th> <th>[0.025</th>  <th>0.975]</th> \n</tr>\n<tr>\n  <th>const</th>          <td>-0.0000</td>  <td>0.0005</td>   <td>-0.0157</td> <td>0.9875</td> <td>-0.0011</td> <td>0.0010</td> \n</tr>\n<tr>\n  <th>ar.L1.D2.trend</th> <td>1.5576</td>   <td>0.0449</td>   <td>34.6845</td> <td>0.0000</td> <td>1.4696</td>  <td>1.6457</td> \n</tr>\n<tr>\n  <th>ar.L2.D2.trend</th> <td>-0.7252</td>  <td>0.0448</td>  <td>-16.1743</td> <td>0.0000</td> <td>-0.8131</td> <td>-0.6373</td>\n</tr>\n</table>\n<table class=\"simpletable\">\n<tr>\n    <td></td>    <th>Real</th>  <th>Imaginary</th> <th>Modulus</th> <th>Frequency</th>\n</tr>\n<tr>\n  <th>AR.1</th> <td>1.0740</td>  <td>-0.4749</td>  <td>1.1743</td>   <td>-0.0663</td> \n</tr>\n<tr>\n  <th>AR.2</th> <td>1.0740</td>  <td>0.4749</td>   <td>1.1743</td>   <td>0.0663</td>  \n</tr>\n</table>"
     },
     "execution_count": 193,
     "metadata": {},
     "output_type": "execute_result"
    }
   ],
   "source": [
    "model_traditional = ARIMA(trend_series, order=(2,2,0)).fit()\n",
    "model_traditional.summary2()"
   ],
   "metadata": {
    "collapsed": false,
    "pycharm": {
     "name": "#%%\n"
    }
   }
  },
  {
   "cell_type": "code",
   "execution_count": 194,
   "outputs": [
    {
     "data": {
      "text/plain": "<Figure size 640x480 with 1 Axes>",
      "image/png": "[encoded data removed]"
     },
     "metadata": {},
     "output_type": "display_data"
    },
    {
     "data": {
      "text/plain": "<ggplot: (83071523822)>"
     },
     "execution_count": 194,
     "metadata": {},
     "output_type": "execute_result"
    }
   ],
   "source": [
    "df = pd.DataFrame(np.concatenate([trend_series, model_traditional.forecast(50*12)[0]]), columns=['trend'])\n",
    "time_array = np.linspace(1999, 2018+50, len(df))\n",
    "df = pd.concat([df, pd.DataFrame(time_array, columns=['time'])], axis=1)\n",
    "\n",
    "(\n",
    "    ggplot(df, aes('time', 'trend', color='trend'))\n",
    "    + geom_line(size=1.5)\n",
    ")"
   ],
   "metadata": {
    "collapsed": false,
    "pycharm": {
     "name": "#%%\n"
    }
   }
  },
  {
   "cell_type": "code",
   "execution_count": 11,
   "outputs": [
    {
     "name": "stdout",
     "output_type": "stream",
     "text": [
      "Performing stepwise search to minimize bic\n",
      " ARIMA(1,2,1)(0,0,0)[0] intercept   : BIC=inf, Time=nan sec\n",
      " ARIMA(0,2,0)(0,0,0)[0] intercept   : BIC=-15113.156, Time=0.32 sec\n",
      " ARIMA(1,2,0)(0,0,0)[0] intercept   : BIC=-18425.360, Time=1.19 sec\n",
      " ARIMA(0,2,1)(0,0,0)[0] intercept   : BIC=-17424.771, Time=2.09 sec\n",
      " ARIMA(0,2,0)(0,0,0)[0]             : BIC=-15120.742, Time=0.13 sec\n",
      " ARIMA(2,2,0)(0,0,0)[0] intercept   : BIC=-20375.588, Time=0.85 sec\n",
      " ARIMA(3,2,0)(0,0,0)[0] intercept   : BIC=-20525.437, Time=2.01 sec\n",
      " ARIMA(4,2,0)(0,0,0)[0] intercept   : BIC=-20553.154, Time=4.55 sec\n",
      " ARIMA(5,2,0)(0,0,0)[0] intercept   : BIC=-20550.722, Time=2.13 sec\n",
      " ARIMA(4,2,1)(0,0,0)[0] intercept   : BIC=-20485.623, Time=3.03 sec\n",
      " ARIMA(3,2,1)(0,0,0)[0] intercept   : BIC=-20383.952, Time=2.68 sec\n",
      " ARIMA(5,2,1)(0,0,0)[0] intercept   : BIC=-20484.319, Time=2.35 sec\n",
      " ARIMA(4,2,0)(0,0,0)[0]             : BIC=-20560.737, Time=1.97 sec\n",
      " ARIMA(3,2,0)(0,0,0)[0]             : BIC=-20533.021, Time=0.75 sec\n",
      " ARIMA(5,2,0)(0,0,0)[0]             : BIC=-20558.306, Time=1.35 sec\n",
      " ARIMA(4,2,1)(0,0,0)[0]             : BIC=-20493.300, Time=1.26 sec\n",
      " ARIMA(3,2,1)(0,0,0)[0]             : BIC=-20392.377, Time=1.18 sec\n",
      " ARIMA(5,2,1)(0,0,0)[0]             : BIC=-20491.922, Time=1.61 sec\n",
      "\n",
      "Best model:  ARIMA(4,2,0)(0,0,0)[0]          \n",
      "Total fit time: 29.475 seconds\n",
      "Performing stepwise search to minimize bic\n",
      " ARIMA(1,2,1)(0,0,0)[0] intercept   : BIC=-14514.329, Time=1.06 sec\n",
      " ARIMA(0,2,0)(0,0,0)[0] intercept   : BIC=-10702.239, Time=0.77 sec\n",
      " ARIMA(1,2,0)(0,0,0)[0] intercept   : BIC=-13191.344, Time=0.92 sec\n",
      " ARIMA(0,2,1)(0,0,0)[0] intercept   : BIC=inf, Time=1.77 sec\n",
      " ARIMA(0,2,0)(0,0,0)[0]             : BIC=-10709.493, Time=0.14 sec\n",
      " ARIMA(2,2,1)(0,0,0)[0] intercept   : BIC=-15383.212, Time=1.71 sec\n",
      " ARIMA(2,2,0)(0,0,0)[0] intercept   : BIC=-14975.034, Time=0.59 sec\n",
      " ARIMA(3,2,1)(0,0,0)[0] intercept   : BIC=-14193.527, Time=1.27 sec\n",
      " ARIMA(2,2,2)(0,0,0)[0] intercept   : BIC=-15498.999, Time=1.17 sec\n",
      " ARIMA(1,2,2)(0,0,0)[0] intercept   : BIC=-15116.078, Time=2.35 sec\n",
      " ARIMA(3,2,2)(0,0,0)[0] intercept   : BIC=-15513.252, Time=1.04 sec\n",
      " ARIMA(4,2,2)(0,0,0)[0] intercept   : BIC=-15082.086, Time=5.81 sec\n",
      " ARIMA(3,2,3)(0,0,0)[0] intercept   : BIC=-14543.233, Time=6.70 sec\n",
      " ARIMA(2,2,3)(0,0,0)[0] intercept   : BIC=-15509.512, Time=1.57 sec\n",
      " ARIMA(4,2,1)(0,0,0)[0] intercept   : BIC=-13964.454, Time=2.10 sec\n",
      " ARIMA(4,2,3)(0,0,0)[0] intercept   : BIC=-15001.443, Time=5.19 sec\n",
      " ARIMA(3,2,2)(0,0,0)[0]             : BIC=-15520.510, Time=0.89 sec\n",
      " ARIMA(2,2,2)(0,0,0)[0]             : BIC=-15506.306, Time=0.72 sec\n",
      " ARIMA(3,2,1)(0,0,0)[0]             : BIC=-14200.811, Time=0.49 sec\n",
      " ARIMA(4,2,2)(0,0,0)[0]             : BIC=-14903.879, Time=4.34 sec\n",
      " ARIMA(3,2,3)(0,0,0)[0]             : BIC=-14728.706, Time=3.38 sec\n",
      " ARIMA(2,2,1)(0,0,0)[0]             : BIC=-15390.570, Time=0.74 sec\n",
      " ARIMA(2,2,3)(0,0,0)[0]             : BIC=-15516.767, Time=0.78 sec\n",
      " ARIMA(4,2,1)(0,0,0)[0]             : BIC=-13971.725, Time=0.68 sec\n",
      " ARIMA(4,2,3)(0,0,0)[0]             : BIC=-15065.946, Time=3.98 sec\n",
      "\n",
      "Best model:  ARIMA(3,2,2)(0,0,0)[0]          \n",
      "Total fit time: 50.175 seconds\n",
      "Performing stepwise search to minimize bic\n",
      " ARIMA(1,2,1)(0,0,0)[0] intercept   : BIC=-7172.598, Time=1.18 sec\n",
      " ARIMA(0,2,0)(0,0,0)[0] intercept   : BIC=-5354.512, Time=0.20 sec\n",
      " ARIMA(1,2,0)(0,0,0)[0] intercept   : BIC=-6638.413, Time=0.59 sec\n",
      " ARIMA(0,2,1)(0,0,0)[0] intercept   : BIC=inf, Time=0.76 sec\n",
      " ARIMA(0,2,0)(0,0,0)[0]             : BIC=-5361.034, Time=0.16 sec\n",
      " ARIMA(2,2,1)(0,0,0)[0] intercept   : BIC=-7488.117, Time=0.42 sec\n",
      " ARIMA(2,2,0)(0,0,0)[0] intercept   : BIC=-7407.201, Time=1.30 sec\n",
      " ARIMA(3,2,1)(0,0,0)[0] intercept   : BIC=-7352.103, Time=0.67 sec\n",
      " ARIMA(2,2,2)(0,0,0)[0] intercept   : BIC=-7503.902, Time=0.45 sec\n",
      " ARIMA(1,2,2)(0,0,0)[0] intercept   : BIC=-6910.370, Time=0.53 sec\n",
      " ARIMA(3,2,2)(0,0,0)[0] intercept   : BIC=-7502.193, Time=0.75 sec\n",
      " ARIMA(2,2,3)(0,0,0)[0] intercept   : BIC=-7499.436, Time=1.42 sec\n",
      " ARIMA(1,2,3)(0,0,0)[0] intercept   : BIC=-7368.121, Time=0.87 sec\n",
      " ARIMA(3,2,3)(0,0,0)[0] intercept   : BIC=-7167.552, Time=3.76 sec\n",
      " ARIMA(2,2,2)(0,0,0)[0]             : BIC=-7510.455, Time=0.57 sec\n",
      " ARIMA(1,2,2)(0,0,0)[0]             : BIC=-6894.679, Time=0.25 sec\n",
      " ARIMA(2,2,1)(0,0,0)[0]             : BIC=-7494.684, Time=0.17 sec\n",
      " ARIMA(3,2,2)(0,0,0)[0]             : BIC=-7508.740, Time=0.67 sec\n",
      " ARIMA(2,2,3)(0,0,0)[0]             : BIC=-7505.979, Time=0.56 sec\n",
      " ARIMA(1,2,1)(0,0,0)[0]             : BIC=-6624.162, Time=0.29 sec\n",
      " ARIMA(1,2,3)(0,0,0)[0]             : BIC=-7376.283, Time=0.48 sec\n",
      " ARIMA(3,2,1)(0,0,0)[0]             : BIC=-7359.636, Time=0.39 sec\n",
      " ARIMA(3,2,3)(0,0,0)[0]             : BIC=-7154.032, Time=1.82 sec\n",
      "\n",
      "Best model:  ARIMA(2,2,2)(0,0,0)[0]          \n",
      "Total fit time: 18.317 seconds\n",
      "Performing stepwise search to minimize bic\n",
      " ARIMA(1,2,1)(0,0,0)[0] intercept   : BIC=-2273.488, Time=0.73 sec\n",
      " ARIMA(0,2,0)(0,0,0)[0] intercept   : BIC=-1788.578, Time=0.05 sec\n",
      " ARIMA(1,2,0)(0,0,0)[0] intercept   : BIC=-2164.991, Time=0.06 sec\n",
      " ARIMA(0,2,1)(0,0,0)[0] intercept   : BIC=-2039.354, Time=0.38 sec\n",
      " ARIMA(0,2,0)(0,0,0)[0]             : BIC=-1793.999, Time=0.04 sec\n",
      " ARIMA(2,2,1)(0,0,0)[0] intercept   : BIC=-2327.749, Time=0.24 sec\n",
      " ARIMA(2,2,0)(0,0,0)[0] intercept   : BIC=-2330.842, Time=0.20 sec\n",
      " ARIMA(3,2,0)(0,0,0)[0] intercept   : BIC=-2328.962, Time=0.30 sec\n",
      " ARIMA(3,2,1)(0,0,0)[0] intercept   : BIC=-2318.646, Time=0.23 sec\n",
      " ARIMA(2,2,0)(0,0,0)[0]             : BIC=-2336.270, Time=0.12 sec\n",
      " ARIMA(1,2,0)(0,0,0)[0]             : BIC=-2170.414, Time=0.05 sec\n",
      " ARIMA(3,2,0)(0,0,0)[0]             : BIC=-2334.389, Time=0.13 sec\n",
      " ARIMA(2,2,1)(0,0,0)[0]             : BIC=-2333.176, Time=0.13 sec\n",
      " ARIMA(1,2,1)(0,0,0)[0]             : BIC=-2245.227, Time=0.12 sec\n",
      " ARIMA(3,2,1)(0,0,0)[0]             : BIC=-2324.085, Time=0.37 sec\n",
      "\n",
      "Best model:  ARIMA(2,2,0)(0,0,0)[0]          \n",
      "Total fit time: 3.157 seconds\n"
     ]
    },
    {
     "data": {
      "text/plain": "[array([6.39907008, 6.40154998, 6.40471801, 6.40823142, 6.41182069,\n        6.41533221, 6.41872477, 6.42203516, 6.42533325, 6.42868343,\n        6.43212229, 6.43565347, 6.43925555, 6.44289575, 6.44654309,\n        6.45017683, 6.45378902, 6.45738236, 6.46096545, 6.46454786,\n        6.46813662, 6.47173469, 6.47534133, 6.47895349, 6.48256752,\n        6.48618048, 6.48979082, 6.49339841, 6.49700405, 6.50060892,\n        6.50421408, 6.50782014, 6.51142724, 6.51503515, 6.51864346,\n        6.52225178, 6.52585985, 6.52946757, 6.533075  , 6.53668226,\n        6.54028949, 6.5438968 , 6.54750422, 6.55111176, 6.55471936,\n        6.55832699, 6.5619346 , 6.56554217, 6.56914971, 6.57275721,\n        6.57636471, 6.5799722 , 6.58357971, 6.58718724, 6.59079477,\n        6.59440231, 6.59800985, 6.60161739, 6.60522492, 6.60883245,\n        6.61243997, 6.61604749, 6.61965502, 6.62326255, 6.62687008,\n        6.63047761, 6.63408513, 6.63769266, 6.64130019, 6.64490772,\n        6.64851525, 6.65212278, 6.65573031, 6.65933783, 6.66294536,\n        6.66655289, 6.67016042, 6.67376795, 6.67737548, 6.68098301,\n        6.68459053, 6.68819806, 6.69180559, 6.69541312, 6.69902065,\n        6.70262818, 6.7062357 , 6.70984323, 6.71345076, 6.71705829,\n        6.72066582, 6.72427335, 6.72788088, 6.7314884 , 6.73509593,\n        6.73870346, 6.74231099, 6.74591852, 6.74952605, 6.75313357,\n        6.7567411 , 6.76034863, 6.76395616, 6.76756369, 6.77117122,\n        6.77477875, 6.77838627, 6.7819938 , 6.78560133, 6.78920886,\n        6.79281639, 6.79642392, 6.80003144, 6.80363897, 6.8072465 ,\n        6.81085403, 6.81446156, 6.81806909, 6.82167662, 6.82528414,\n        6.82889167, 6.8324992 , 6.83610673, 6.83971426, 6.84332179,\n        6.84692931, 6.85053684, 6.85414437, 6.8577519 , 6.86135943,\n        6.86496696, 6.86857448, 6.87218201, 6.87578954, 6.87939707,\n        6.8830046 , 6.88661213, 6.89021966, 6.89382718, 6.89743471,\n        6.90104224, 6.90464977, 6.9082573 , 6.91186483, 6.91547235,\n        6.91907988, 6.92268741, 6.92629494, 6.92990247, 6.93351   ,\n        6.93711753, 6.94072505, 6.94433258, 6.94794011, 6.95154764,\n        6.95515517, 6.9587627 , 6.96237022, 6.96597775, 6.96958528,\n        6.97319281, 6.97680034, 6.98040787, 6.9840154 , 6.98762292,\n        6.99123045, 6.99483798, 6.99844551, 7.00205304, 7.00566057,\n        7.00926809, 7.01287562, 7.01648315, 7.02009068, 7.02369821,\n        7.02730574, 7.03091327, 7.03452079, 7.03812832, 7.04173585,\n        7.04534338, 7.04895091, 7.05255844, 7.05616596, 7.05977349,\n        7.06338102, 7.06698855, 7.07059608, 7.07420361, 7.07781114,\n        7.08141866, 7.08502619, 7.08863372, 7.09224125, 7.09584878,\n        7.09945631, 7.10306383, 7.10667136, 7.11027889, 7.11388642,\n        7.11749395, 7.12110148, 7.124709  , 7.12831653, 7.13192406,\n        7.13553159, 7.13913912, 7.14274665, 7.14635418, 7.1499617 ,\n        7.15356923, 7.15717676, 7.16078429, 7.16439182, 7.16799935,\n        7.17160687, 7.1752144 , 7.17882193, 7.18242946, 7.18603699,\n        7.18964452, 7.19325205, 7.19685957, 7.2004671 , 7.20407463,\n        7.20768216, 7.21128969, 7.21489722, 7.21850474, 7.22211227,\n        7.2257198 , 7.22932733, 7.23293486, 7.23654239, 7.24014992,\n        7.24375744, 7.24736497, 7.2509725 , 7.25458003, 7.25818756,\n        7.26179509, 7.26540261, 7.26901014, 7.27261767, 7.2762252 ,\n        7.27983273, 7.28344026, 7.28704779, 7.29065531, 7.29426284,\n        7.29787037, 7.3014779 , 7.30508543, 7.30869296, 7.31230048,\n        7.31590801, 7.31951554, 7.32312307, 7.3267306 , 7.33033813,\n        7.33394566, 7.33755318, 7.34116071, 7.34476824, 7.34837577,\n        7.3519833 , 7.35559083, 7.35919835, 7.36280588, 7.36641341,\n        7.37002094, 7.37362847, 7.377236  , 7.38084352, 7.38445105,\n        7.38805858, 7.39166611, 7.39527364, 7.39888117, 7.4024887 ,\n        7.40609622, 7.40970375, 7.41331128, 7.41691881, 7.42052634,\n        7.42413387, 7.42774139, 7.43134892, 7.43495645, 7.43856398,\n        7.44217151, 7.44577904, 7.44938657, 7.45299409, 7.45660162,\n        7.46020915, 7.46381668, 7.46742421, 7.47103174, 7.47463926,\n        7.47824679, 7.48185432, 7.48546185, 7.48906938, 7.49267691,\n        7.49628444, 7.49989196, 7.50349949, 7.50710702, 7.51071455,\n        7.51432208, 7.51792961, 7.52153713, 7.52514466, 7.52875219,\n        7.53235972, 7.53596725, 7.53957478, 7.54318231, 7.54678983,\n        7.55039736, 7.55400489, 7.55761242, 7.56121995, 7.56482748,\n        7.568435  , 7.57204253, 7.57565006, 7.57925759, 7.58286512,\n        7.58647265, 7.59008018, 7.5936877 , 7.59729523, 7.60090276,\n        7.60451029, 7.60811782, 7.61172535, 7.61533287, 7.6189404 ,\n        7.62254793, 7.62615546, 7.62976299, 7.63337052, 7.63697804,\n        7.64058557, 7.6441931 , 7.64780063, 7.65140816, 7.65501569,\n        7.65862322, 7.66223074, 7.66583827, 7.6694458 , 7.67305333,\n        7.67666086, 7.68026839, 7.68387591, 7.68748344, 7.69109097,\n        7.6946985 , 7.69830603, 7.70191356, 7.70552109, 7.70912861,\n        7.71273614, 7.71634367, 7.7199512 , 7.72355873, 7.72716626,\n        7.73077378, 7.73438131, 7.73798884, 7.74159637, 7.7452039 ,\n        7.74881143, 7.75241896, 7.75602648, 7.75963401, 7.76324154,\n        7.76684907, 7.7704566 , 7.77406413, 7.77767165, 7.78127918,\n        7.78488671, 7.78849424, 7.79210177, 7.7957093 , 7.79931683,\n        7.80292435, 7.80653188, 7.81013941, 7.81374694, 7.81735447,\n        7.820962  , 7.82456952, 7.82817705, 7.83178458, 7.83539211,\n        7.83899964, 7.84260717, 7.8462147 , 7.84982222, 7.85342975,\n        7.85703728, 7.86064481, 7.86425234, 7.86785987, 7.87146739,\n        7.87507492, 7.87868245, 7.88228998, 7.88589751, 7.88950504,\n        7.89311256, 7.89672009, 7.90032762, 7.90393515, 7.90754268,\n        7.91115021, 7.91475774, 7.91836526, 7.92197279, 7.92558032,\n        7.92918785, 7.93279538, 7.93640291, 7.94001043, 7.94361796,\n        7.94722549, 7.95083302, 7.95444055, 7.95804808, 7.96165561,\n        7.96526313, 7.96887066, 7.97247819, 7.97608572, 7.97969325,\n        7.98330078, 7.9869083 , 7.99051583, 7.99412336, 7.99773089,\n        8.00133842, 8.00494595, 8.00855348, 8.012161  , 8.01576853,\n        8.01937606, 8.02298359, 8.02659112, 8.03019865, 8.03380617,\n        8.0374137 , 8.04102123, 8.04462876, 8.04823629, 8.05184382,\n        8.05545135, 8.05905887, 8.0626664 , 8.06627393, 8.06988146,\n        8.07348899, 8.07709652, 8.08070404, 8.08431157, 8.0879191 ,\n        8.09152663, 8.09513416, 8.09874169, 8.10234922, 8.10595674,\n        8.10956427, 8.1131718 , 8.11677933, 8.12038686, 8.12399439,\n        8.12760191, 8.13120944, 8.13481697, 8.1384245 , 8.14203203,\n        8.14563956, 8.14924708, 8.15285461, 8.15646214, 8.16006967,\n        8.1636772 , 8.16728473, 8.17089226, 8.17449978, 8.17810731,\n        8.18171484, 8.18532237, 8.1889299 , 8.19253743, 8.19614495,\n        8.19975248, 8.20336001, 8.20696754, 8.21057507, 8.2141826 ,\n        8.21779013, 8.22139765, 8.22500518, 8.22861271, 8.23222024,\n        8.23582777, 8.2394353 , 8.24304282, 8.24665035, 8.25025788,\n        8.25386541, 8.25747294, 8.26108047, 8.264688  , 8.26829552,\n        8.27190305, 8.27551058, 8.27911811, 8.28272564, 8.28633317,\n        8.28994069, 8.29354822, 8.29715575, 8.30076328, 8.30437081,\n        8.30797834, 8.31158587, 8.31519339, 8.31880092, 8.32240845,\n        8.32601598, 8.32962351, 8.33323104, 8.33683856, 8.34044609,\n        8.34405362, 8.34766115, 8.35126868, 8.35487621, 8.35848374,\n        8.36209126, 8.36569879, 8.36930632, 8.37291385, 8.37652138,\n        8.38012891, 8.38373643, 8.38734396, 8.39095149, 8.39455902,\n        8.39816655, 8.40177408, 8.4053816 , 8.40898913, 8.41259666,\n        8.41620419, 8.41981172, 8.42341925, 8.42702678, 8.4306343 ,\n        8.43424183, 8.43784936, 8.44145689, 8.44506442, 8.44867195,\n        8.45227947, 8.455887  , 8.45949453, 8.46310206, 8.46670959,\n        8.47031712, 8.47392465, 8.47753217, 8.4811397 , 8.48474723,\n        8.48835476, 8.49196229, 8.49556982, 8.49917734, 8.50278487,\n        8.5063924 , 8.50999993, 8.51360746, 8.51721499, 8.52082252,\n        8.52443004, 8.52803757, 8.5316451 , 8.53525263, 8.53886016,\n        8.54246769, 8.54607521, 8.54968274, 8.55329027, 8.5568978 ]),\n array([6.39910307, 6.40167004, 6.40498426, 6.40869398, 6.41251055,\n        6.41625382, 6.41985271, 6.42331659, 6.42669657, 6.43005133,\n        6.43342532, 6.43684056, 6.4402987 , 6.44378845, 6.447294  ,\n        6.45080141, 6.45430196, 6.45779255, 6.46127434, 6.46475065,\n        6.46822511, 6.47170043, 6.47517798, 6.47865791, 6.48213962,\n        6.48562221, 6.48910489, 6.49258716, 6.49606885, 6.49955003,\n        6.50303089, 6.50651164, 6.50999244, 6.51347337, 6.51695443,\n        6.5204356 , 6.52391681, 6.52739804, 6.53087923, 6.5343604 ,\n        6.53784153, 6.54132265, 6.54480376, 6.54828487, 6.55176599,\n        6.55524712, 6.55872826, 6.56220939, 6.56569053, 6.56917167,\n        6.5726528 , 6.57613393, 6.57961506, 6.58309619, 6.58657733,\n        6.59005846, 6.59353959, 6.59702072, 6.60050185, 6.60398299,\n        6.60746412, 6.61094525, 6.61442638, 6.61790752, 6.62138865,\n        6.62486978, 6.62835091, 6.63183204, 6.63531318, 6.63879431,\n        6.64227544, 6.64575657, 6.6492377 , 6.65271884, 6.65619997,\n        6.6596811 , 6.66316223, 6.66664337, 6.6701245 , 6.67360563,\n        6.67708676, 6.68056789, 6.68404903, 6.68753016, 6.69101129,\n        6.69449242, 6.69797355, 6.70145469, 6.70493582, 6.70841695,\n        6.71189808, 6.71537922, 6.71886035, 6.72234148, 6.72582261,\n        6.72930374, 6.73278488, 6.73626601, 6.73974714, 6.74322827,\n        6.74670941, 6.75019054, 6.75367167, 6.7571528 , 6.76063393,\n        6.76411507, 6.7675962 , 6.77107733, 6.77455846, 6.77803959,\n        6.78152073, 6.78500186, 6.78848299, 6.79196412, 6.79544526,\n        6.79892639, 6.80240752, 6.80588865, 6.80936978, 6.81285092,\n        6.81633205, 6.81981318, 6.82329431, 6.82677545, 6.83025658,\n        6.83373771, 6.83721884, 6.84069997, 6.84418111, 6.84766224,\n        6.85114337, 6.8546245 , 6.85810563, 6.86158677, 6.8650679 ,\n        6.86854903, 6.87203016, 6.8755113 , 6.87899243, 6.88247356,\n        6.88595469, 6.88943582, 6.89291696, 6.89639809, 6.89987922,\n        6.90336035, 6.90684148, 6.91032262, 6.91380375, 6.91728488,\n        6.92076601, 6.92424715, 6.92772828, 6.93120941, 6.93469054,\n        6.93817167, 6.94165281, 6.94513394, 6.94861507, 6.9520962 ,\n        6.95557734, 6.95905847, 6.9625396 , 6.96602073, 6.96950186,\n        6.972983  , 6.97646413, 6.97994526, 6.98342639, 6.98690752,\n        6.99038866, 6.99386979, 6.99735092, 7.00083205, 7.00431319,\n        7.00779432, 7.01127545, 7.01475658, 7.01823771, 7.02171885,\n        7.02519998, 7.02868111, 7.03216224, 7.03564338, 7.03912451,\n        7.04260564, 7.04608677, 7.0495679 , 7.05304904, 7.05653017,\n        7.0600113 , 7.06349243, 7.06697356, 7.0704547 , 7.07393583,\n        7.07741696, 7.08089809, 7.08437923, 7.08786036, 7.09134149,\n        7.09482262, 7.09830375, 7.10178489, 7.10526602, 7.10874715,\n        7.11222828, 7.11570941, 7.11919055, 7.12267168, 7.12615281,\n        7.12963394, 7.13311508, 7.13659621, 7.14007734, 7.14355847,\n        7.1470396 , 7.15052074, 7.15400187, 7.157483  , 7.16096413,\n        7.16444527, 7.1679264 , 7.17140753, 7.17488866, 7.17836979,\n        7.18185093, 7.18533206, 7.18881319, 7.19229432, 7.19577545,\n        7.19925659, 7.20273772, 7.20621885, 7.20969998, 7.21318112,\n        7.21666225, 7.22014338, 7.22362451, 7.22710564, 7.23058678,\n        7.23406791, 7.23754904, 7.24103017, 7.24451131, 7.24799244,\n        7.25147357, 7.2549547 , 7.25843583, 7.26191697, 7.2653981 ,\n        7.26887923, 7.27236036, 7.27584149, 7.27932263, 7.28280376,\n        7.28628489, 7.28976602, 7.29324716, 7.29672829, 7.30020942,\n        7.30369055, 7.30717168, 7.31065282, 7.31413395, 7.31761508,\n        7.32109621, 7.32457734, 7.32805848, 7.33153961, 7.33502074,\n        7.33850187, 7.34198301, 7.34546414, 7.34894527, 7.3524264 ,\n        7.35590753, 7.35938867, 7.3628698 , 7.36635093, 7.36983206,\n        7.3733132 , 7.37679433, 7.38027546, 7.38375659, 7.38723772,\n        7.39071886, 7.39419999, 7.39768112, 7.40116225, 7.40464338,\n        7.40812452, 7.41160565, 7.41508678, 7.41856791, 7.42204905,\n        7.42553018, 7.42901131, 7.43249244, 7.43597357, 7.43945471,\n        7.44293584, 7.44641697, 7.4498981 , 7.45337924, 7.45686037,\n        7.4603415 , 7.46382263, 7.46730376, 7.4707849 , 7.47426603,\n        7.47774716, 7.48122829, 7.48470942, 7.48819056, 7.49167169,\n        7.49515282, 7.49863395, 7.50211509, 7.50559622, 7.50907735,\n        7.51255848, 7.51603961, 7.51952075, 7.52300188, 7.52648301,\n        7.52996414, 7.53344527, 7.53692641, 7.54040754, 7.54388867,\n        7.5473698 , 7.55085094, 7.55433207, 7.5578132 , 7.56129433,\n        7.56477546, 7.5682566 , 7.57173773, 7.57521886, 7.57869999,\n        7.58218113, 7.58566226, 7.58914339, 7.59262452, 7.59610565,\n        7.59958679, 7.60306792, 7.60654905, 7.61003018, 7.61351131,\n        7.61699245, 7.62047358, 7.62395471, 7.62743584, 7.63091698,\n        7.63439811, 7.63787924, 7.64136037, 7.6448415 , 7.64832264,\n        7.65180377, 7.6552849 , 7.65876603, 7.66224717, 7.6657283 ,\n        7.66920943, 7.67269056, 7.67617169, 7.67965283, 7.68313396,\n        7.68661509, 7.69009622, 7.69357735, 7.69705849, 7.70053962,\n        7.70402075, 7.70750188, 7.71098302, 7.71446415, 7.71794528,\n        7.72142641, 7.72490754, 7.72838868, 7.73186981, 7.73535094,\n        7.73883207, 7.7423132 , 7.74579434, 7.74927547, 7.7527566 ,\n        7.75623773, 7.75971887, 7.7632    , 7.76668113, 7.77016226,\n        7.77364339, 7.77712453, 7.78060566, 7.78408679, 7.78756792,\n        7.79104906, 7.79453019, 7.79801132, 7.80149245, 7.80497358,\n        7.80845472, 7.81193585, 7.81541698, 7.81889811, 7.82237924,\n        7.82586038, 7.82934151, 7.83282264, 7.83630377, 7.83978491,\n        7.84326604, 7.84674717, 7.8502283 , 7.85370943, 7.85719057,\n        7.8606717 , 7.86415283, 7.86763396, 7.8711151 , 7.87459623,\n        7.87807736, 7.88155849, 7.88503962, 7.88852076, 7.89200189,\n        7.89548302, 7.89896415, 7.90244528, 7.90592642, 7.90940755,\n        7.91288868, 7.91636981, 7.91985095, 7.92333208, 7.92681321,\n        7.93029434, 7.93377547, 7.93725661, 7.94073774, 7.94421887,\n        7.9477    , 7.95118113, 7.95466227, 7.9581434 , 7.96162453,\n        7.96510566, 7.9685868 , 7.97206793, 7.97554906, 7.97903019,\n        7.98251132, 7.98599246, 7.98947359, 7.99295472, 7.99643585,\n        7.99991699, 8.00339812, 8.00687925, 8.01036038, 8.01384151,\n        8.01732265, 8.02080378, 8.02428491, 8.02776604, 8.03124717,\n        8.03472831, 8.03820944, 8.04169057, 8.0451717 , 8.04865284,\n        8.05213397, 8.0556151 , 8.05909623, 8.06257736, 8.0660585 ,\n        8.06953963, 8.07302076, 8.07650189, 8.07998303, 8.08346416,\n        8.08694529, 8.09042642, 8.09390755, 8.09738869, 8.10086982,\n        8.10435095, 8.10783208, 8.11131321, 8.11479435, 8.11827548,\n        8.12175661, 8.12523774, 8.12871888, 8.13220001, 8.13568114,\n        8.13916227, 8.1426434 , 8.14612454, 8.14960567, 8.1530868 ,\n        8.15656793, 8.16004906, 8.1635302 , 8.16701133, 8.17049246,\n        8.17397359, 8.17745473, 8.18093586, 8.18441699, 8.18789812,\n        8.19137925, 8.19486039, 8.19834152, 8.20182265, 8.20530378,\n        8.20878492, 8.21226605, 8.21574718, 8.21922831, 8.22270944,\n        8.22619058, 8.22967171, 8.23315284, 8.23663397, 8.2401151 ,\n        8.24359624, 8.24707737, 8.2505585 , 8.25403963, 8.25752077,\n        8.2610019 , 8.26448303, 8.26796416, 8.27144529, 8.27492643,\n        8.27840756, 8.28188869, 8.28536982, 8.28885096, 8.29233209,\n        8.29581322, 8.29929435, 8.30277548, 8.30625662, 8.30973775,\n        8.31321888, 8.31670001, 8.32018114, 8.32366228, 8.32714341,\n        8.33062454, 8.33410567, 8.33758681, 8.34106794, 8.34454907,\n        8.3480302 , 8.35151133, 8.35499247, 8.3584736 , 8.36195473,\n        8.36543586, 8.36891699, 8.37239813, 8.37587926, 8.37936039,\n        8.38284152, 8.38632266, 8.38980379, 8.39328492, 8.39676605,\n        8.40024718, 8.40372832, 8.40720945, 8.41069058, 8.41417171,\n        8.41765285, 8.42113398, 8.42461511, 8.42809624, 8.43157737,\n        8.43505851, 8.43853964, 8.44202077, 8.4455019 , 8.44898303,\n        8.45246417, 8.4559453 , 8.45942643, 8.46290756, 8.4663887 ,\n        8.46986983, 8.47335096, 8.47683209, 8.48031322, 8.48379436]),\n array([6.39912192, 6.40173985, 6.40516086, 6.40905659, 6.41313899,\n        6.41719637, 6.42110213, 6.42480493, 6.42830921, 6.43165316,\n        6.43488904, 6.4380685 , 6.4412336 , 6.44441294, 6.44762168,\n        6.45086398, 6.45413641, 6.45743147, 6.46074047, 6.46405557,\n        6.46737078, 6.47068242, 6.47398881, 6.47728987, 6.48058649,\n        6.48388002, 6.48717185, 6.49046313, 6.49375469, 6.49704698,\n        6.50034015, 6.50363414, 6.50692876, 6.51022379, 6.51351901,\n        6.51681426, 6.52010943, 6.52340446, 6.52669935, 6.52999412,\n        6.5332888 , 6.53658343, 6.53987804, 6.54317265, 6.54646728,\n        6.54976194, 6.55305662, 6.55635131, 6.55964602, 6.56294073,\n        6.56623544, 6.56953016, 6.57282487, 6.57611957, 6.57941427,\n        6.58270897, 6.58600367, 6.58929837, 6.59259306, 6.59588776,\n        6.59918246, 6.60247716, 6.60577186, 6.60906656, 6.61236126,\n        6.61565596, 6.61895066, 6.62224536, 6.62554006, 6.62883476,\n        6.63212946, 6.63542416, 6.63871885, 6.64201355, 6.64530825,\n        6.64860295, 6.65189765, 6.65519235, 6.65848705, 6.66178175,\n        6.66507645, 6.66837115, 6.67166585, 6.67496055, 6.67825525,\n        6.68154995, 6.68484465, 6.68813935, 6.69143405, 6.69472875,\n        6.69802345, 6.70131815, 6.70461284, 6.70790754, 6.71120224,\n        6.71449694, 6.71779164, 6.72108634, 6.72438104, 6.72767574,\n        6.73097044, 6.73426514, 6.73755984, 6.74085454, 6.74414924,\n        6.74744394, 6.75073864, 6.75403334, 6.75732804, 6.76062274,\n        6.76391744, 6.76721214, 6.77050683, 6.77380153, 6.77709623,\n        6.78039093, 6.78368563, 6.78698033, 6.79027503, 6.79356973,\n        6.79686443, 6.80015913, 6.80345383, 6.80674853, 6.81004323,\n        6.81333793, 6.81663263, 6.81992733, 6.82322203, 6.82651673,\n        6.82981143, 6.83310613, 6.83640083, 6.83969552, 6.84299022,\n        6.84628492, 6.84957962, 6.85287432, 6.85616902, 6.85946372,\n        6.86275842, 6.86605312, 6.86934782, 6.87264252, 6.87593722,\n        6.87923192, 6.88252662, 6.88582132, 6.88911602, 6.89241072,\n        6.89570542, 6.89900012, 6.90229482, 6.90558951, 6.90888421,\n        6.91217891, 6.91547361, 6.91876831, 6.92206301, 6.92535771,\n        6.92865241, 6.93194711, 6.93524181, 6.93853651, 6.94183121,\n        6.94512591, 6.94842061, 6.95171531, 6.95501001, 6.95830471,\n        6.96159941, 6.96489411, 6.96818881, 6.9714835 , 6.9747782 ,\n        6.9780729 , 6.9813676 , 6.9846623 , 6.987957  , 6.9912517 ,\n        6.9945464 , 6.9978411 , 7.0011358 , 7.0044305 , 7.0077252 ,\n        7.0110199 , 7.0143146 , 7.0176093 , 7.020904  , 7.0241987 ,\n        7.0274934 , 7.0307881 , 7.0340828 , 7.03737749, 7.04067219,\n        7.04396689, 7.04726159, 7.05055629, 7.05385099, 7.05714569,\n        7.06044039, 7.06373509, 7.06702979, 7.07032449, 7.07361919,\n        7.07691389, 7.08020859, 7.08350329, 7.08679799, 7.09009269,\n        7.09338739, 7.09668209, 7.09997679, 7.10327148, 7.10656618,\n        7.10986088, 7.11315558, 7.11645028, 7.11974498, 7.12303968,\n        7.12633438, 7.12962908, 7.13292378, 7.13621848, 7.13951318,\n        7.14280788, 7.14610258, 7.14939728, 7.15269198, 7.15598668,\n        7.15928138, 7.16257608, 7.16587078, 7.16916547, 7.17246017,\n        7.17575487, 7.17904957, 7.18234427, 7.18563897, 7.18893367,\n        7.19222837, 7.19552307, 7.19881777, 7.20211247, 7.20540717,\n        7.20870187, 7.21199657, 7.21529127, 7.21858597, 7.22188067,\n        7.22517537, 7.22847007, 7.23176477, 7.23505946, 7.23835416,\n        7.24164886, 7.24494356, 7.24823826, 7.25153296, 7.25482766,\n        7.25812236, 7.26141706, 7.26471176, 7.26800646, 7.27130116,\n        7.27459586, 7.27789056, 7.28118526, 7.28447996, 7.28777466,\n        7.29106936, 7.29436406, 7.29765876, 7.30095346, 7.30424815,\n        7.30754285, 7.31083755, 7.31413225, 7.31742695, 7.32072165,\n        7.32401635, 7.32731105, 7.33060575, 7.33390045, 7.33719515,\n        7.34048985, 7.34378455, 7.34707925, 7.35037395, 7.35366865,\n        7.35696335, 7.36025805, 7.36355275, 7.36684745, 7.37014214,\n        7.37343684, 7.37673154, 7.38002624, 7.38332094, 7.38661564,\n        7.38991034, 7.39320504, 7.39649974, 7.39979444, 7.40308914,\n        7.40638384, 7.40967854, 7.41297324, 7.41626794, 7.41956264,\n        7.42285734, 7.42615204, 7.42944674, 7.43274144, 7.43603613,\n        7.43933083, 7.44262553, 7.44592023, 7.44921493, 7.45250963,\n        7.45580433, 7.45909903, 7.46239373, 7.46568843, 7.46898313,\n        7.47227783, 7.47557253, 7.47886723, 7.48216193, 7.48545663,\n        7.48875133, 7.49204603, 7.49534073, 7.49863543, 7.50193012,\n        7.50522482, 7.50851952, 7.51181422, 7.51510892, 7.51840362,\n        7.52169832, 7.52499302, 7.52828772, 7.53158242, 7.53487712,\n        7.53817182, 7.54146652, 7.54476122, 7.54805592, 7.55135062,\n        7.55464532, 7.55794002, 7.56123472, 7.56452942, 7.56782411,\n        7.57111881, 7.57441351, 7.57770821, 7.58100291, 7.58429761,\n        7.58759231, 7.59088701, 7.59418171, 7.59747641, 7.60077111,\n        7.60406581, 7.60736051, 7.61065521, 7.61394991, 7.61724461,\n        7.62053931, 7.62383401, 7.62712871, 7.63042341, 7.6337181 ,\n        7.6370128 , 7.6403075 , 7.6436022 , 7.6468969 , 7.6501916 ,\n        7.6534863 , 7.656781  , 7.6600757 , 7.6633704 , 7.6666651 ,\n        7.6699598 , 7.6732545 , 7.6765492 , 7.6798439 , 7.6831386 ,\n        7.6864333 , 7.689728  , 7.6930227 , 7.6963174 , 7.6996121 ,\n        7.70290679, 7.70620149, 7.70949619, 7.71279089, 7.71608559,\n        7.71938029, 7.72267499, 7.72596969, 7.72926439, 7.73255909,\n        7.73585379, 7.73914849, 7.74244319, 7.74573789, 7.74903259,\n        7.75232729, 7.75562199, 7.75891669, 7.76221139, 7.76550609,\n        7.76880078, 7.77209548, 7.77539018, 7.77868488, 7.78197958,\n        7.78527428, 7.78856898, 7.79186368, 7.79515838, 7.79845308,\n        7.80174778, 7.80504248, 7.80833718, 7.81163188, 7.81492658,\n        7.81822128, 7.82151598, 7.82481068, 7.82810538, 7.83140008,\n        7.83469477, 7.83798947, 7.84128417, 7.84457887, 7.84787357,\n        7.85116827, 7.85446297, 7.85775767, 7.86105237, 7.86434707,\n        7.86764177, 7.87093647, 7.87423117, 7.87752587, 7.88082057,\n        7.88411527, 7.88740997, 7.89070467, 7.89399937, 7.89729407,\n        7.90058876, 7.90388346, 7.90717816, 7.91047286, 7.91376756,\n        7.91706226, 7.92035696, 7.92365166, 7.92694636, 7.93024106,\n        7.93353576, 7.93683046, 7.94012516, 7.94341986, 7.94671456,\n        7.95000926, 7.95330396, 7.95659866, 7.95989336, 7.96318806,\n        7.96648275, 7.96977745, 7.97307215, 7.97636685, 7.97966155,\n        7.98295625, 7.98625095, 7.98954565, 7.99284035, 7.99613505,\n        7.99942975, 8.00272445, 8.00601915, 8.00931385, 8.01260855,\n        8.01590325, 8.01919795, 8.02249265, 8.02578735, 8.02908205,\n        8.03237674, 8.03567144, 8.03896614, 8.04226084, 8.04555554,\n        8.04885024, 8.05214494, 8.05543964, 8.05873434, 8.06202904,\n        8.06532374, 8.06861844, 8.07191314, 8.07520784, 8.07850254,\n        8.08179724, 8.08509194, 8.08838664, 8.09168134, 8.09497604,\n        8.09827074, 8.10156543, 8.10486013, 8.10815483, 8.11144953,\n        8.11474423, 8.11803893, 8.12133363, 8.12462833, 8.12792303,\n        8.13121773, 8.13451243, 8.13780713, 8.14110183, 8.14439653,\n        8.14769123, 8.15098593, 8.15428063, 8.15757533, 8.16087003,\n        8.16416473, 8.16745942, 8.17075412, 8.17404882, 8.17734352,\n        8.18063822, 8.18393292, 8.18722762, 8.19052232, 8.19381702,\n        8.19711172, 8.20040642, 8.20370112, 8.20699582, 8.21029052,\n        8.21358522, 8.21687992, 8.22017462, 8.22346932, 8.22676402,\n        8.23005872, 8.23335341, 8.23664811, 8.23994281, 8.24323751,\n        8.24653221, 8.24982691, 8.25312161, 8.25641631, 8.25971101,\n        8.26300571, 8.26630041, 8.26959511, 8.27288981, 8.27618451,\n        8.27947921, 8.28277391, 8.28606861, 8.28936331, 8.29265801,\n        8.29595271, 8.2992474 , 8.3025421 , 8.3058368 , 8.3091315 ,\n        8.3124262 , 8.3157209 , 8.3190156 , 8.3223103 , 8.325605  ,\n        8.3288997 , 8.3321944 , 8.3354891 , 8.3387838 , 8.3420785 ,\n        8.3453732 , 8.3486679 , 8.3519626 , 8.3552573 , 8.358552  ,\n        8.3618467 , 8.36514139, 8.36843609, 8.37173079, 8.37502549]),\n array([6.39903315, 6.4014241 , 6.4044612 , 6.40780487, 6.41115633,\n        6.41429653, 6.4171012 , 6.41953596, 6.42163766, 6.42348895,\n        6.42519195, 6.42684592, 6.42853141, 6.43030184, 6.43218191,\n        6.43417129, 6.43625141, 6.43839357, 6.44056646, 6.44274211,\n        6.44489968, 6.44702701, 6.44912031, 6.4511825 , 6.45322093,\n        6.45524491, 6.45726368, 6.45928482, 6.46131346, 6.46335209,\n        6.46540084, 6.46745814, 6.46952138, 6.47158767, 6.47365442,\n        6.47571963, 6.47778213, 6.47984149, 6.48189796, 6.48395217,\n        6.48600498, 6.48805725, 6.49010968, 6.49216277, 6.49421677,\n        6.49627171, 6.49832745, 6.50038376, 6.50244037, 6.50449704,\n        6.50655359, 6.50860988, 6.5106659 , 6.51272164, 6.51477717,\n        6.51683256, 6.5188879 , 6.52094324, 6.52299865, 6.52505413,\n        6.52710971, 6.52916536, 6.53122106, 6.53327679, 6.53533253,\n        6.53738826, 6.53944397, 6.54149965, 6.54355531, 6.54561095,\n        6.54766657, 6.54972219, 6.55177781, 6.55383343, 6.55588906,\n        6.5579447 , 6.56000034, 6.56205599, 6.56411165, 6.5661673 ,\n        6.56822296, 6.57027861, 6.57233426, 6.57438991, 6.57644555,\n        6.57850119, 6.58055684, 6.58261248, 6.58466812, 6.58672377,\n        6.58877941, 6.59083506, 6.59289071, 6.59494635, 6.597002  ,\n        6.59905765, 6.60111329, 6.60316894, 6.60522458, 6.60728023,\n        6.60933588, 6.61139152, 6.61344717, 6.61550281, 6.61755846,\n        6.6196141 , 6.62166975, 6.6237254 , 6.62578104, 6.62783669,\n        6.62989233, 6.63194798, 6.63400363, 6.63605927, 6.63811492,\n        6.64017056, 6.64222621, 6.64428185, 6.6463375 , 6.64839315,\n        6.65044879, 6.65250444, 6.65456008, 6.65661573, 6.65867138,\n        6.66072702, 6.66278267, 6.66483831, 6.66689396, 6.66894961,\n        6.67100525, 6.6730609 , 6.67511654, 6.67717219, 6.67922783,\n        6.68128348, 6.68333913, 6.68539477, 6.68745042, 6.68950606,\n        6.69156171, 6.69361736, 6.695673  , 6.69772865, 6.69978429,\n        6.70183994, 6.70389558, 6.70595123, 6.70800688, 6.71006252,\n        6.71211817, 6.71417381, 6.71622946, 6.71828511, 6.72034075,\n        6.7223964 , 6.72445204, 6.72650769, 6.72856333, 6.73061898,\n        6.73267463, 6.73473027, 6.73678592, 6.73884156, 6.74089721,\n        6.74295286, 6.7450085 , 6.74706415, 6.74911979, 6.75117544,\n        6.75323109, 6.75528673, 6.75734238, 6.75939802, 6.76145367,\n        6.76350931, 6.76556496, 6.76762061, 6.76967625, 6.7717319 ,\n        6.77378754, 6.77584319, 6.77789884, 6.77995448, 6.78201013,\n        6.78406577, 6.78612142, 6.78817706, 6.79023271, 6.79228836,\n        6.794344  , 6.79639965, 6.79845529, 6.80051094, 6.80256659,\n        6.80462223, 6.80667788, 6.80873352, 6.81078917, 6.81284482,\n        6.81490046, 6.81695611, 6.81901175, 6.8210674 , 6.82312304,\n        6.82517869, 6.82723434, 6.82928998, 6.83134563, 6.83340127,\n        6.83545692, 6.83751257, 6.83956821, 6.84162386, 6.8436795 ,\n        6.84573515, 6.84779079, 6.84984644, 6.85190209, 6.85395773,\n        6.85601338, 6.85806902, 6.86012467, 6.86218032, 6.86423596,\n        6.86629161, 6.86834725, 6.8704029 , 6.87245855, 6.87451419,\n        6.87656984, 6.87862548, 6.88068113, 6.88273677, 6.88479242,\n        6.88684807, 6.88890371, 6.89095936, 6.893015  , 6.89507065,\n        6.8971263 , 6.89918194, 6.90123759, 6.90329323, 6.90534888,\n        6.90740452, 6.90946017, 6.91151582, 6.91357146, 6.91562711,\n        6.91768275, 6.9197384 , 6.92179405, 6.92384969, 6.92590534,\n        6.92796098, 6.93001663, 6.93207227, 6.93412792, 6.93618357,\n        6.93823921, 6.94029486, 6.9423505 , 6.94440615, 6.9464618 ,\n        6.94851744, 6.95057309, 6.95262873, 6.95468438, 6.95674003,\n        6.95879567, 6.96085132, 6.96290696, 6.96496261, 6.96701825,\n        6.9690739 , 6.97112955, 6.97318519, 6.97524084, 6.97729648,\n        6.97935213, 6.98140778, 6.98346342, 6.98551907, 6.98757471,\n        6.98963036, 6.991686  , 6.99374165, 6.9957973 , 6.99785294,\n        6.99990859, 7.00196423, 7.00401988, 7.00607553, 7.00813117,\n        7.01018682, 7.01224246, 7.01429811, 7.01635376, 7.0184094 ,\n        7.02046505, 7.02252069, 7.02457634, 7.02663198, 7.02868763,\n        7.03074328, 7.03279892, 7.03485457, 7.03691021, 7.03896586,\n        7.04102151, 7.04307715, 7.0451328 , 7.04718844, 7.04924409,\n        7.05129973, 7.05335538, 7.05541103, 7.05746667, 7.05952232,\n        7.06157796, 7.06363361, 7.06568926, 7.0677449 , 7.06980055,\n        7.07185619, 7.07391184, 7.07596748, 7.07802313, 7.08007878,\n        7.08213442, 7.08419007, 7.08624571, 7.08830136, 7.09035701,\n        7.09241265, 7.0944683 , 7.09652394, 7.09857959, 7.10063524,\n        7.10269088, 7.10474653, 7.10680217, 7.10885782, 7.11091346,\n        7.11296911, 7.11502476, 7.1170804 , 7.11913605, 7.12119169,\n        7.12324734, 7.12530299, 7.12735863, 7.12941428, 7.13146992,\n        7.13352557, 7.13558121, 7.13763686, 7.13969251, 7.14174815,\n        7.1438038 , 7.14585944, 7.14791509, 7.14997074, 7.15202638,\n        7.15408203, 7.15613767, 7.15819332, 7.16024897, 7.16230461,\n        7.16436026, 7.1664159 , 7.16847155, 7.17052719, 7.17258284,\n        7.17463849, 7.17669413, 7.17874978, 7.18080542, 7.18286107,\n        7.18491672, 7.18697236, 7.18902801, 7.19108365, 7.1931393 ,\n        7.19519494, 7.19725059, 7.19930624, 7.20136188, 7.20341753,\n        7.20547317, 7.20752882, 7.20958447, 7.21164011, 7.21369576,\n        7.2157514 , 7.21780705, 7.2198627 , 7.22191834, 7.22397399,\n        7.22602963, 7.22808528, 7.23014092, 7.23219657, 7.23425222,\n        7.23630786, 7.23836351, 7.24041915, 7.2424748 , 7.24453045,\n        7.24658609, 7.24864174, 7.25069738, 7.25275303, 7.25480867,\n        7.25686432, 7.25891997, 7.26097561, 7.26303126, 7.2650869 ,\n        7.26714255, 7.2691982 , 7.27125384, 7.27330949, 7.27536513,\n        7.27742078, 7.27947642, 7.28153207, 7.28358772, 7.28564336,\n        7.28769901, 7.28975465, 7.2918103 , 7.29386595, 7.29592159,\n        7.29797724, 7.30003288, 7.30208853, 7.30414418, 7.30619982,\n        7.30825547, 7.31031111, 7.31236676, 7.3144224 , 7.31647805,\n        7.3185337 , 7.32058934, 7.32264499, 7.32470063, 7.32675628,\n        7.32881193, 7.33086757, 7.33292322, 7.33497886, 7.33703451,\n        7.33909015, 7.3411458 , 7.34320145, 7.34525709, 7.34731274,\n        7.34936838, 7.35142403, 7.35347968, 7.35553532, 7.35759097,\n        7.35964661, 7.36170226, 7.36375791, 7.36581355, 7.3678692 ,\n        7.36992484, 7.37198049, 7.37403613, 7.37609178, 7.37814743,\n        7.38020307, 7.38225872, 7.38431436, 7.38637001, 7.38842566,\n        7.3904813 , 7.39253695, 7.39459259, 7.39664824, 7.39870388,\n        7.40075953, 7.40281518, 7.40487082, 7.40692647, 7.40898211,\n        7.41103776, 7.41309341, 7.41514905, 7.4172047 , 7.41926034,\n        7.42131599, 7.42337163, 7.42542728, 7.42748293, 7.42953857,\n        7.43159422, 7.43364986, 7.43570551, 7.43776116, 7.4398168 ,\n        7.44187245, 7.44392809, 7.44598374, 7.44803939, 7.45009503,\n        7.45215068, 7.45420632, 7.45626197, 7.45831761, 7.46037326,\n        7.46242891, 7.46448455, 7.4665402 , 7.46859584, 7.47065149,\n        7.47270714, 7.47476278, 7.47681843, 7.47887407, 7.48092972,\n        7.48298536, 7.48504101, 7.48709666, 7.4891523 , 7.49120795,\n        7.49326359, 7.49531924, 7.49737489, 7.49943053, 7.50148618,\n        7.50354182, 7.50559747, 7.50765312, 7.50970876, 7.51176441,\n        7.51382005, 7.5158757 , 7.51793134, 7.51998699, 7.52204264,\n        7.52409828, 7.52615393, 7.52820957, 7.53026522, 7.53232087,\n        7.53437651, 7.53643216, 7.5384878 , 7.54054345, 7.54259909,\n        7.54465474, 7.54671039, 7.54876603, 7.55082168, 7.55287732,\n        7.55493297, 7.55698862, 7.55904426, 7.56109991, 7.56315555,\n        7.5652112 , 7.56726685, 7.56932249, 7.57137814, 7.57343378,\n        7.57548943, 7.57754507, 7.57960072, 7.58165637, 7.58371201,\n        7.58576766, 7.5878233 , 7.58987895, 7.5919346 , 7.59399024,\n        7.59604589, 7.59810153, 7.60015718, 7.60221282, 7.60426847,\n        7.60632412, 7.60837976, 7.61043541, 7.61249105, 7.6145467 ,\n        7.61660235, 7.61865799, 7.62071364, 7.62276928, 7.62482493,\n        7.62688057, 7.62893622, 7.63099187, 7.63304751, 7.63510316])]"
     },
     "execution_count": 11,
     "metadata": {},
     "output_type": "execute_result"
    }
   ],
   "source": [
    "from pmdarima import auto_arima\n",
    "\n",
    "sst_list = []\n",
    "for start_year in [1854, 1900, 1960, 1999]:\n",
    "    df_temp = pd.read_csv('data/sst_after_decomposed.csv')\n",
    "    df_temp = df_temp[df_temp['time']>=start_year]\n",
    "    trend_series = df_temp['trend']\n",
    "\n",
    "    model = auto_arima(trend_series,\n",
    "                       start_p=1,\n",
    "                       start_q=1,\n",
    "                       d=2,\n",
    "                       trace=True,\n",
    "                       error_action='ignore',\n",
    "                       suppress_warnings=True,\n",
    "                       information_criterion='bic',\n",
    "                       seasonal=False)\n",
    "\n",
    "    sst, _ = model.predict(n_periods=12 * 50, return_conf_int=True)\n",
    "    sst_list.append(sst)\n",
    "sst_list"
   ],
   "metadata": {
    "collapsed": false,
    "pycharm": {
     "name": "#%%\n"
    }
   }
  },
  {
   "cell_type": "code",
   "execution_count": 25,
   "outputs": [
    {
     "data": {
      "text/plain": "         trend  seasonal     resid         time\n0     6.404564  1.510582  0.039568  1854.000000\n1     6.377094  1.762318  0.059766  1854.083164\n2     6.350477  1.266709  0.038144  1854.166329\n3     6.324808  0.716773  0.081107  1854.249493\n4     6.300151 -0.180693  0.060576  1854.332657\n...        ...       ...       ...          ...\n1968  6.402800  1.460959 -0.181374  2017.667343\n1969  6.400219  1.842102 -0.178426  2017.750507\n1970  6.398309  1.406731 -0.019582  2017.833671\n1971  6.397357  0.733769  0.226391  2017.916836\n1972  6.397606 -0.070427  0.271703  2018.000000\n\n[1973 rows x 4 columns]",
      "text/html": "<div>\n<style scoped>\n    .dataframe tbody tr th:only-of-type {\n        vertical-align: middle;\n    }\n\n    .dataframe tbody tr th {\n        vertical-align: top;\n    }\n\n    .dataframe thead th {\n        text-align: right;\n    }\n</style>\n<table border=\"1\" class=\"dataframe\">\n  <thead>\n    <tr style=\"text-align: right;\">\n      <th></th>\n      <th>trend</th>\n      <th>seasonal</th>\n      <th>resid</th>\n      <th>time</th>\n    </tr>\n  </thead>\n  <tbody>\n    <tr>\n      <th>0</th>\n      <td>6.404564</td>\n      <td>1.510582</td>\n      <td>0.039568</td>\n      <td>1854.000000</td>\n    </tr>\n    <tr>\n      <th>1</th>\n      <td>6.377094</td>\n      <td>1.762318</td>\n      <td>0.059766</td>\n      <td>1854.083164</td>\n    </tr>\n    <tr>\n      <th>2</th>\n      <td>6.350477</td>\n      <td>1.266709</td>\n      <td>0.038144</td>\n      <td>1854.166329</td>\n    </tr>\n    <tr>\n      <th>3</th>\n      <td>6.324808</td>\n      <td>0.716773</td>\n      <td>0.081107</td>\n      <td>1854.249493</td>\n    </tr>\n    <tr>\n      <th>4</th>\n      <td>6.300151</td>\n      <td>-0.180693</td>\n      <td>0.060576</td>\n      <td>1854.332657</td>\n    </tr>\n    <tr>\n      <th>...</th>\n      <td>...</td>\n      <td>...</td>\n      <td>...</td>\n      <td>...</td>\n    </tr>\n    <tr>\n      <th>1968</th>\n      <td>6.402800</td>\n      <td>1.460959</td>\n      <td>-0.181374</td>\n      <td>2017.667343</td>\n    </tr>\n    <tr>\n      <th>1969</th>\n      <td>6.400219</td>\n      <td>1.842102</td>\n      <td>-0.178426</td>\n      <td>2017.750507</td>\n    </tr>\n    <tr>\n      <th>1970</th>\n      <td>6.398309</td>\n      <td>1.406731</td>\n      <td>-0.019582</td>\n      <td>2017.833671</td>\n    </tr>\n    <tr>\n      <th>1971</th>\n      <td>6.397357</td>\n      <td>0.733769</td>\n      <td>0.226391</td>\n      <td>2017.916836</td>\n    </tr>\n    <tr>\n      <th>1972</th>\n      <td>6.397606</td>\n      <td>-0.070427</td>\n      <td>0.271703</td>\n      <td>2018.000000</td>\n    </tr>\n  </tbody>\n</table>\n<p>1973 rows × 4 columns</p>\n</div>"
     },
     "execution_count": 24,
     "metadata": {},
     "output_type": "execute_result"
    },
    {
     "data": {
      "text/plain": "         trend  seasonal     resid         time\n0     6.404564  1.510582  0.039568  1854.000000\n1     6.377094  1.762318  0.059766  1854.083164\n2     6.350477  1.266709  0.038144  1854.166329\n3     6.324808  0.716773  0.081107  1854.249493\n4     6.300151 -0.180693  0.060576  1854.332657\n...        ...       ...       ...          ...\n1968  6.402800  1.460959 -0.181374  2017.667343\n1969  6.400219  1.842102 -0.178426  2017.750507\n1970  6.398309  1.406731 -0.019582  2017.833671\n1971  6.397357  0.733769  0.226391  2017.916836\n1972  6.397606 -0.070427  0.271703  2018.000000\n\n[1973 rows x 4 columns]",
      "text/html": "<div>\n<style scoped>\n    .dataframe tbody tr th:only-of-type {\n        vertical-align: middle;\n    }\n\n    .dataframe tbody tr th {\n        vertical-align: top;\n    }\n\n    .dataframe thead th {\n        text-align: right;\n    }\n</style>\n<table border=\"1\" class=\"dataframe\">\n  <thead>\n    <tr style=\"text-align: right;\">\n      <th></th>\n      <th>trend</th>\n      <th>seasonal</th>\n      <th>resid</th>\n      <th>time</th>\n    </tr>\n  </thead>\n  <tbody>\n    <tr>\n      <th>0</th>\n      <td>6.404564</td>\n      <td>1.510582</td>\n      <td>0.039568</td>\n      <td>1854.000000</td>\n    </tr>\n    <tr>\n      <th>1</th>\n      <td>6.377094</td>\n      <td>1.762318</td>\n      <td>0.059766</td>\n      <td>1854.083164</td>\n    </tr>\n    <tr>\n      <th>2</th>\n      <td>6.350477</td>\n      <td>1.266709</td>\n      <td>0.038144</td>\n      <td>1854.166329</td>\n    </tr>\n    <tr>\n      <th>3</th>\n      <td>6.324808</td>\n      <td>0.716773</td>\n      <td>0.081107</td>\n      <td>1854.249493</td>\n    </tr>\n    <tr>\n      <th>4</th>\n      <td>6.300151</td>\n      <td>-0.180693</td>\n      <td>0.060576</td>\n      <td>1854.332657</td>\n    </tr>\n    <tr>\n      <th>...</th>\n      <td>...</td>\n      <td>...</td>\n      <td>...</td>\n      <td>...</td>\n    </tr>\n    <tr>\n      <th>1968</th>\n      <td>6.402800</td>\n      <td>1.460959</td>\n      <td>-0.181374</td>\n      <td>2017.667343</td>\n    </tr>\n    <tr>\n      <th>1969</th>\n      <td>6.400219</td>\n      <td>1.842102</td>\n      <td>-0.178426</td>\n      <td>2017.750507</td>\n    </tr>\n    <tr>\n      <th>1970</th>\n      <td>6.398309</td>\n      <td>1.406731</td>\n      <td>-0.019582</td>\n      <td>2017.833671</td>\n    </tr>\n    <tr>\n      <th>1971</th>\n      <td>6.397357</td>\n      <td>0.733769</td>\n      <td>0.226391</td>\n      <td>2017.916836</td>\n    </tr>\n    <tr>\n      <th>1972</th>\n      <td>6.397606</td>\n      <td>-0.070427</td>\n      <td>0.271703</td>\n      <td>2018.000000</td>\n    </tr>\n  </tbody>\n</table>\n<p>1973 rows × 4 columns</p>\n</div>"
     },
     "execution_count": 25,
     "metadata": {},
     "output_type": "execute_result"
    }
   ],
   "source": [
    "pd.read_csv('data/sst_after_decomposed.csv')"
   ],
   "metadata": {
    "collapsed": false,
    "pycharm": {
     "name": "#%%\n"
    }
   }
  },
  {
   "cell_type": "code",
   "execution_count": 35,
   "outputs": [
    {
     "data": {
      "text/plain": "          sst         time  start_year\n0    7.915146  1854.000000        1854\n1    8.139411  1854.083164        1854\n2    7.617187  1854.166329        1854\n3    7.041581  1854.249493        1854\n4    6.119458  1854.332657        1854\n..        ...          ...         ...\n595  7.626881  2067.666110        1999\n596  7.628936  2067.749583        1999\n597  7.630992  2067.833055        1999\n598  7.633048  2067.916528        1999\n599  7.635103  2068.000000        1999\n\n[6719 rows x 3 columns]",
      "text/html": "<div>\n<style scoped>\n    .dataframe tbody tr th:only-of-type {\n        vertical-align: middle;\n    }\n\n    .dataframe tbody tr th {\n        vertical-align: top;\n    }\n\n    .dataframe thead th {\n        text-align: right;\n    }\n</style>\n<table border=\"1\" class=\"dataframe\">\n  <thead>\n    <tr style=\"text-align: right;\">\n      <th></th>\n      <th>sst</th>\n      <th>time</th>\n      <th>start_year</th>\n    </tr>\n  </thead>\n  <tbody>\n    <tr>\n      <th>0</th>\n      <td>7.915146</td>\n      <td>1854.000000</td>\n      <td>1854</td>\n    </tr>\n    <tr>\n      <th>1</th>\n      <td>8.139411</td>\n      <td>1854.083164</td>\n      <td>1854</td>\n    </tr>\n    <tr>\n      <th>2</th>\n      <td>7.617187</td>\n      <td>1854.166329</td>\n      <td>1854</td>\n    </tr>\n    <tr>\n      <th>3</th>\n      <td>7.041581</td>\n      <td>1854.249493</td>\n      <td>1854</td>\n    </tr>\n    <tr>\n      <th>4</th>\n      <td>6.119458</td>\n      <td>1854.332657</td>\n      <td>1854</td>\n    </tr>\n    <tr>\n      <th>...</th>\n      <td>...</td>\n      <td>...</td>\n      <td>...</td>\n    </tr>\n    <tr>\n      <th>595</th>\n      <td>7.626881</td>\n      <td>2067.666110</td>\n      <td>1999</td>\n    </tr>\n    <tr>\n      <th>596</th>\n      <td>7.628936</td>\n      <td>2067.749583</td>\n      <td>1999</td>\n    </tr>\n    <tr>\n      <th>597</th>\n      <td>7.630992</td>\n      <td>2067.833055</td>\n      <td>1999</td>\n    </tr>\n    <tr>\n      <th>598</th>\n      <td>7.633048</td>\n      <td>2067.916528</td>\n      <td>1999</td>\n    </tr>\n    <tr>\n      <th>599</th>\n      <td>7.635103</td>\n      <td>2068.000000</td>\n      <td>1999</td>\n    </tr>\n  </tbody>\n</table>\n<p>6719 rows × 3 columns</p>\n</div>"
     },
     "execution_count": 35,
     "metadata": {},
     "output_type": "execute_result"
    }
   ],
   "source": [
    "df_list = []\n",
    "year_list = [1854, 1900, 1960, 1999]\n",
    "for index, sst in enumerate(sst_list):\n",
    "    df_last = pd.read_csv('data/sst_after_decomposed.csv')\n",
    "    df_last['sst'] = df_last['trend'] + df_last['seasonal']\n",
    "    df_last['start_year'] = year_list[index]\n",
    "    df_last = df_last[['sst','time','start_year']]\n",
    "    df_last = df_last[df_last['time']>=year_list[index]]\n",
    "    df_temp = pd.DataFrame({\n",
    "        'sst': sst,\n",
    "        'time': np.linspace(2018, 2068, len(sst)),\n",
    "        'start_year': year_list[index],\n",
    "    })\n",
    "    df_list.append(pd.concat([df_last, df_temp]))\n",
    "df_temp = pd.concat(df_list)\n",
    "df_temp"
   ],
   "metadata": {
    "collapsed": false,
    "pycharm": {
     "name": "#%%\n"
    }
   }
  },
  {
   "cell_type": "code",
   "execution_count": 38,
   "outputs": [
    {
     "name": "stderr",
     "output_type": "stream",
     "text": [
      "c:\\environment\\python3.8.5\\lib\\site-packages\\plotnine\\ggplot.py:727: PlotnineWarning: Saving 6.4 x 4.8 in image.\n",
      "c:\\environment\\python3.8.5\\lib\\site-packages\\plotnine\\ggplot.py:730: PlotnineWarning: Filename: img/arima/the sst trend forecast value of arima over the next 50 years.png\n",
      "c:\\environment\\python3.8.5\\lib\\site-packages\\plotnine\\facets\\facet.py:549: PlotnineWarning: If you need more space for the x-axis tick text use ... + theme(subplots_adjust={'wspace': 0.25}). Choose an appropriate value for 'wspace'.\n",
      "c:\\environment\\python3.8.5\\lib\\site-packages\\plotnine\\facets\\facet.py:555: PlotnineWarning: If you need more space for the y-axis tick text use ... + theme(subplots_adjust={'hspace': 0.25}). Choose an appropriate value for 'hspace'\n"
     ]
    }
   ],
   "source": [
    "(\n",
    "    ggplot(df_temp, aes('time', 'sst', color='sst'))\n",
    "    + geom_line()\n",
    "    + facet_wrap('start_year', scales='free')\n",
    "    + labs(x='Year',\n",
    "           y='Trend of SST',\n",
    "           title='the SST Trend Forecast Value of ARIMA over the Next 50 Years',\n",
    "           color='Trend')\n",
    ").save('img/arima/the sst trend forecast value of arima over the next 50 years.png')"
   ],
   "metadata": {
    "collapsed": false,
    "pycharm": {
     "name": "#%%\n"
    }
   }
  },
  {
   "cell_type": "code",
   "execution_count": 66,
   "outputs": [
    {
     "name": "stderr",
     "output_type": "stream",
     "text": [
      "c:\\environment\\python3.8.5\\lib\\site-packages\\plotnine\\ggplot.py:727: PlotnineWarning: Saving 6.4 x 4.8 in image.\n",
      "c:\\environment\\python3.8.5\\lib\\site-packages\\plotnine\\ggplot.py:730: PlotnineWarning: Filename: img/arima/bic.png\n"
     ]
    }
   ],
   "source": [
    "df_temp = pd.DataFrame({\n",
    "    'p': [0, 0, 1, 1, 2, 2, 3, 3],\n",
    "    'q': [0, 1, 0, 1, 0, 1, 0, 1],\n",
    "    'bic': [-1793.999, -2039.354, -2164.991, -2273.488,\n",
    "            -2336.842, -2327.749, -2334.389, -2318.646],\n",
    "})\n",
    "\n",
    "(\n",
    "    ggplot(df_temp, aes('p', 'q', fill='bic'))\n",
    "    + geom_tile(color='black')\n",
    "    + scale_fill_gradient(low='purple', high='red')\n",
    "    + geom_text(aes(label='bic'), size=12)\n",
    "    + theme(                                         # new\n",
    "    axis_ticks=element_blank(),\n",
    "    panel_background=element_rect(fill='white'))\n",
    "    + labs(x='P', y='Q',\n",
    "           title='BIC under Different P and Q',\n",
    "           color='BIC')\n",
    ").save('img/arima/bic.png')\n"
   ],
   "metadata": {
    "collapsed": false,
    "pycharm": {
     "name": "#%%\n"
    }
   }
  }
 ],
 "metadata": {
  "kernelspec": {
   "display_name": "Python 3",
   "language": "python",
   "name": "python3"
  },
  "language_info": {
   "codemirror_mode": {
    "name": "ipython",
    "version": 2
   },
   "file_extension": ".py",
   "mimetype": "text/x-python",
   "name": "python",
   "nbconvert_exporter": "python",
   "pygments_lexer": "ipython2",
   "version": "2.7.6"
  }
 },
 "nbformat": 4,
 "nbformat_minor": 0
}